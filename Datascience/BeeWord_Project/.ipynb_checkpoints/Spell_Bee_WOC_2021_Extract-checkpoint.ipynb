{
 "cells": [
  {
   "cell_type": "code",
   "execution_count": 1,
   "metadata": {},
   "outputs": [],
   "source": [
    "# Importing Libraries\n",
    "from PyPDF2 import PdfFileReader\n",
    "import numpy as np\n",
    "import tabula\n",
    "import pandas as pd"
   ]
  },
  {
   "cell_type": "markdown",
   "metadata": {},
   "source": [
    "PikePDF can be used to open encrypted files (Created by Acrobat 6.0). Below is the simple code:\n",
    "Output file is no longer password protected."
   ]
  },
  {
   "cell_type": "code",
   "execution_count": null,
   "metadata": {},
   "outputs": [],
   "source": [
    "\n",
    "from pikepdf import Pdf\n",
    "with Pdf.open('Bee_Word_2020.pdf') as pdf:\n",
    "    pdf.save('Bee_Word_2020_decrypt.pdf')"
   ]
  },
  {
   "cell_type": "code",
   "execution_count": 2,
   "metadata": {},
   "outputs": [
    {
     "name": "stdout",
     "output_type": "stream",
     "text": [
      "\n",
      "Input Filename(PDF):Bee_Docs/2021_Printable_Words of the Champions.pdf\n",
      "\n",
      "Output Filename(CSV ):Bee_Docs/2021_Words of the Champions_Output.csv\n"
     ]
    },
    {
     "name": "stderr",
     "output_type": "stream",
     "text": [
      "'pages' argument isn't specified.Will extract only from page 1 by default.\n"
     ]
    },
    {
     "name": "stdout",
     "output_type": "stream",
     "text": [
      "Page no: 0\n",
      "Page no: 1\n",
      "Page no: 2\n",
      "Page no: 3\n",
      "Page no: 4\n",
      "Page no: 5\n",
      "Page no: 6\n",
      "Page no: 7\n",
      "Page no: 8\n",
      "Page no: 9\n",
      "Page no: 10\n",
      "Page no: 11\n",
      "Page no: 12\n",
      "Page no: 13\n",
      "Page no: 14\n",
      "Page no: 15\n",
      "Page no: 16\n",
      "Page no: 17\n",
      "Page no: 18\n",
      "Page no: 19\n",
      "Page no: 20\n",
      "Page no: 21\n",
      "Page no: 22\n",
      "Page no: 23\n",
      "Page no: 24\n",
      "Page no: 25\n",
      "Page no: 26\n",
      "Page no: 27\n"
     ]
    }
   ],
   "source": [
    "class Spell_Bee:\n",
    "    def __init__(self,path):\n",
    "        # Initialization\n",
    "        self.words_array=[]\n",
    "        self.level = 'ONE'\n",
    "        self.dataset = self.Create_DataFrame()\n",
    "        self.path = path\n",
    "    \n",
    "    def Create_DataFrame(self):\n",
    "        return pd.DataFrame({'Difficulty Level': self.level, 'Words':self.words_array})\n",
    "\n",
    "    \n",
    "    \n",
    "    #Opening File\n",
    "    def Open_Pdf(self):\n",
    "        f = open(self.path,'rb') \n",
    "        pdf = PdfFileReader(f)\n",
    "        tot_pg= pdf.getNumPages()\n",
    "        #print('After getnum pages')\n",
    "        f.close()\n",
    "        #print('total page: ', tot_pg)       \n",
    "        return tot_pg\n",
    "    \n",
    "    def Append_rows(self,pg):\n",
    "        def Array_handling(df_data):\n",
    "            sample_list=''\n",
    "            for item in df_data:\n",
    "                sample_list= ','.join(item)\n",
    "            x=np.array(sample_list.split(','))\n",
    "            y=np.array(df_data[0])\n",
    "            return np.append(x,y)\n",
    "        data=tabula.read_pdf(self.path,pages=pg)\n",
    "        self.words_array=np.append(self.words_array,Array_handling(data))\n",
    "    \n",
    "    def Page_Extract(self,page):\n",
    "        def Lvl_chk(x):\n",
    "            num_lst =['ONE','TWO', 'THREE']\n",
    "            column_val=''\n",
    "\n",
    "            for i in num_lst:\n",
    "\n",
    "                if i in x:\n",
    "\n",
    "                    column_val = i\n",
    "                    return column_val\n",
    "            return None\n",
    "        \n",
    "    \n",
    "    \n",
    "        for pg in range(page+1):\n",
    "            print('Page no:',pg)\n",
    "            df_new=tabula.read_pdf(filename, pages=pg,area=(30,331,70,420))\n",
    "            x=str(df_new)\n",
    "\n",
    "\n",
    "            column_val =Lvl_chk(x)\n",
    "\n",
    "            if column_val and self.level == column_val:\n",
    "                self.Append_rows(pg)\n",
    "                \n",
    "            elif column_val :\n",
    "  \n",
    "                df2 = self.Create_DataFrame()\n",
    "                self.dataset =pd.concat([self.dataset,df2], ignore_index=True, axis=0)\n",
    "\n",
    "                self.level = column_val\n",
    "                self.words_array=[]\n",
    "                self.Append_rows(pg)\n",
    "        \n",
    "        df2 = self.Create_DataFrame()\n",
    "        self.dataset =pd.concat([self.dataset,df2], ignore_index=True, axis=0)\n",
    "        \n",
    "            \n",
    "filename=input('\\nInput Filename(PDF):') \n",
    "Output_csv = input('\\nOutput Filename(CSV ):')\n",
    "Sb = Spell_Bee(filename)\n",
    "page = Sb.Open_Pdf()\n",
    "Sb.Page_Extract(page)\n",
    "Output=Sb.dataset\n",
    "dataframe_out = Output.copy()\n",
    "# handling null values\n",
    "Output.dropna(axis=0,how='any',inplace=True)\n",
    "import re\n",
    "def Orsplit(x):\n",
    "    match = re.findall('OR\\s*\\**([\\w+\\s*\\w*]*)|\\**(\\w+((\\s*|-)\\w+)*)|\\**([\\w+\\s*\\w*]*)',x)\n",
    "    for item in match[0]:\n",
    "        if item != '':\n",
    "            return item \n",
    "        \n",
    "Output['Words'] = Output['Words'].apply(Orsplit)\n",
    "\n",
    "Output.to_csv(Output_csv,encoding='utf-8-sig') # writing into csv format file\n",
    "#print('Output:', Output)\n",
    "\n",
    "    \n",
    "    \n",
    "   "
   ]
  },
  {
   "cell_type": "code",
   "execution_count": 9,
   "metadata": {},
   "outputs": [],
   "source": [
    "Output.to_csv('Bee_Docs/2021_Words of the Champions_Output.csv',encoding='utf-8-sig')"
   ]
  },
  {
   "cell_type": "code",
   "execution_count": 6,
   "metadata": {},
   "outputs": [
    {
     "name": "stdout",
     "output_type": "stream",
     "text": [
      "Output:      Difficulty Level          Words\n",
      "0                 ONE            gel\n",
      "1                 ONE            day\n",
      "2                 ONE         scorch\n",
      "3                 ONE           hear\n",
      "4                 ONE         sizzle\n",
      "...               ...            ...\n",
      "4092            THREE    brucellosis\n",
      "4093            THREE  **incarnadine\n",
      "4094            THREE    haplography\n",
      "4095            THREE         aperçu\n",
      "4096            THREE          terai\n",
      "\n",
      "[4060 rows x 2 columns]\n"
     ]
    }
   ],
   "source": [
    "Output.dropna(how='any',axis=0,inplace=True)\n",
    "Output.to_csv('Spell_Bee_file2021_V1.csv') # writing into csv format file\n",
    "print('Output:', Output)"
   ]
  },
  {
   "cell_type": "code",
   "execution_count": 2,
   "metadata": {
    "scrolled": true
   },
   "outputs": [
    {
     "name": "stdout",
     "output_type": "stream",
     "text": [
      "Number of page: 28\n"
     ]
    }
   ],
   "source": [
    "\n",
    "import PyPDF2\n",
    "PATH = 'Bee_Word_2020_decrypt.pdf'\n",
    "with open(PATH, mode='rb') as f:        \n",
    "    reader = PyPDF2.PdfFileReader(f)\n",
    "   \n",
    "    print(f\"Number of page: {reader.getNumPages()}\")\n",
    "   "
   ]
  },
  {
   "cell_type": "code",
   "execution_count": 52,
   "metadata": {},
   "outputs": [],
   "source": [
    "Output = dataframe_out.copy()\n",
    "# handling null values\n",
    "Output.dropna(axis=0,how='any',inplace=True)\n",
    "#Output =['OR etouffee', 'bergère', '**kibitzer', 'force majeure', 'coup de grace', 'OR *löss','bric-a-brac']\n",
    "import re\n",
    "def Orsplit(x):\n",
    "    match = re.findall('OR\\s*\\**([\\w+\\s*\\w*]*)|\\**(\\w+((\\s*|-)\\w+)*)|\\**([\\w+\\s*\\w*]*)',x)\n",
    "    #match=re.findall(r'OR\\s*\\**([\\w+\\s*\\w*]*)|\\**(\\w+((\\s*|-)\\w+)*)|\\**([\\w+\\s*\\w*]*)',x)\n",
    "    #print(match)\n",
    "    for item in match[0]:\n",
    "        #print(item, type(item))\n",
    "        if item != '':\n",
    "         return item\n",
    "Output['Words'] = Output['Words'].apply(Orsplit)\n",
    "#for item in Output:\n",
    " #   print('Final val:',Orsplit(item))\n",
    "Output.to_csv('Bee_Docs/2021_Words of the Champions_Output.csv',encoding='utf-8-sig') # writing into csv format file\n"
   ]
  },
  {
   "cell_type": "code",
   "execution_count": 13,
   "metadata": {},
   "outputs": [
    {
     "name": "stdout",
     "output_type": "stream",
     "text": [
      "('etouffee', '', None)\n",
      "(None, None, 'bergère')\n",
      "(None, None, 'kibitzer')\n",
      "(None, None, 'force majeure')\n",
      "(None, None, 'coup de')\n",
      "('löss', '', None)\n"
     ]
    }
   ],
   "source": [
    "Output =['OR etouffee', 'bergère', '**kibitzer', 'force majeure', 'coup de grace', 'OR löss']\n",
    "import re\n",
    "def Orsplit(x):\n",
    "    matched = re.match('OR\\s*\\**([\\w+\\s*\\w*]*)|\\**([\\w+\\s*\\w*]*)',x)\n",
    "    if matched:\n",
    "        print(matched.groups())\n",
    "\n",
    "#Output.to_csv(Output_csv) # writing into csv format file\n",
    "for i in Output:\n",
    "    Output_new = Orsplit(i)\n",
    "\n",
    "    "
   ]
  },
  {
   "cell_type": "code",
   "execution_count": 29,
   "metadata": {},
   "outputs": [],
   "source": [
    "#from io import BytesIO\n",
    "Bee_data  = Output.copy()\n",
    "#buffer = BytesIO()\n",
    "#Bee_data = Bee_data.decode(\"utf8\").encode(\"latin-1\")\n",
    "Bee_data.to_csv('Output_Bee_decrypt.csv',encoding='utf-8-sig')"
   ]
  },
  {
   "cell_type": "code",
   "execution_count": 111,
   "metadata": {},
   "outputs": [
    {
     "name": "stdout",
     "output_type": "stream",
     "text": [
      "200\n"
     ]
    }
   ],
   "source": [
    "import pyttsx3\n",
    "engine = pyttsx3.init() # object creation\n",
    "\"\"\" RATE\"\"\"\n",
    "rate = engine.getProperty('rate')   # getting details of current speaking rate\n",
    "print (rate)                        #printing current voice rate\n",
    "engine.setProperty('rate', 125)     # setting up new voice rate\n",
    "\"\"\"VOICE\"\"\"\n",
    "voices = engine.getProperty('voices')       #getting details of current voice\n",
    "#engine.setProperty('voice', voices[0].id)  #changing index, changes voices. o for male\n",
    "engine.setProperty('voice', voices[1].id)   #changing index, changes voices. 1 for female\n",
    "\"\"\"VOLUME\"\"\"\n",
    "volume = engine.getProperty('volume')   #getting to know current volume level (min=0 and max=1\n",
    "#printing current volume level\n",
    "engine.setProperty('volume',1.0)    # setting up volume level  between 0 and 1\n",
    "\"\"\"Speak words\"\"\"\n",
    "engine.say(\"Hello World!\")\n",
    "engine.runAndWait()\n",
    "engine.stop()"
   ]
  },
  {
   "cell_type": "code",
   "execution_count": 120,
   "metadata": {},
   "outputs": [
    {
     "name": "stdout",
     "output_type": "stream",
     "text": [
      "    Difficulty Level      Words\n",
      "0                ONE        gel\n",
      "1                ONE        day\n",
      "2                ONE     scorch\n",
      "3                ONE       hear\n",
      "4                ONE     sizzle\n",
      "..               ...        ...\n",
      "834              ONE     kernel\n",
      "835              ONE    cornily\n",
      "836              ONE      frock\n",
      "837              ONE      gruel\n",
      "838              ONE  teenagers\n",
      "\n",
      "[831 rows x 2 columns]\n",
      "Random Word  medallion\n"
     ]
    }
   ],
   "source": [
    "def speak_word(df_level, Output):\n",
    "    df=Output.copy()\n",
    "    df=df.loc[df['Difficulty Level'] == df_level]\n",
    "    print(df)\n",
    "    #randomly select n number of rows out of the total existing row numbers from the dataframe df without replacement.\n",
    "    n=1\n",
    "    df_pick=df.take(np.random.permutation(len(df))[:n])\n",
    "    print('Random Word ',df_pick.iloc[0][1])\n",
    "    random_word = df_pick.iloc[0][1]\n",
    "    engine.say(random_word)\n",
    "    engine.runAndWait()\n",
    "    engine.stop()\n",
    "speak_word('ONE', Output)"
   ]
  },
  {
   "cell_type": "code",
   "execution_count": null,
   "metadata": {},
   "outputs": [],
   "source": [
    "import speech_recognition as sr \n",
    "import pyttsx3  \n",
    "  \n",
    "# Initialize the recognizer  \n",
    "r = sr.Recognizer()  \n",
    "# Loop infinitely for user to \n",
    "# speak \n",
    "  \n",
    "while(1):     \n",
    "      \n",
    "    # Exception handling to handle \n",
    "    # exceptions at the runtime \n",
    "    try: \n",
    "          \n",
    "        # use the microphone as source for input. \n",
    "        with sr.Microphone() as source2: \n",
    "              \n",
    "            # wait for a second to let the recognizer \n",
    "            # adjust the energy threshold based on \n",
    "            # the surrounding noise level  \n",
    "            r.adjust_for_ambient_noise(source2, duration=0.2) \n",
    "              \n",
    "            #listens for the user's input  \n",
    "            audio2 = r.listen(source2) \n",
    "              \n",
    "            # Using ggogle to recognize audio \n",
    "            MyText = r.recognize_google(audio2) \n",
    "            MyText = MyText.lower() \n",
    "  \n",
    "            print(\"Did you say \"+MyText) \n",
    "            SpeakText(MyText) \n",
    "              \n",
    "    except sr.RequestError as e: \n",
    "        print(\"Could not request results; {0}\".format(e)) \n",
    "          \n",
    "    except sr.UnknownValueError: \n",
    "        print(\"unknown error occured\")\n",
    "def Listen_word(df_level, Output, MyText):\n",
    "    df=Output.copy()\n",
    "    df = df.loc[df['Difficulty Level'] == df_level]\n",
    "    if MyText in df['Words']:\n",
    "        return True\n",
    "    else:\n",
    "        return False\n",
    "if Listen_word('ONE', Output, MyText):\n",
    "    engine.say('You are Correct')\n",
    "    engine.runAndWait()\n",
    "    engine.stop()\n",
    "else:\n",
    "    engine.say('You are Wrong Try some other word')\n",
    "    engine.runAndWait()\n",
    "    engine.stop()\n",
    "    \n"
   ]
  },
  {
   "cell_type": "code",
   "execution_count": null,
   "metadata": {},
   "outputs": [],
   "source": [
    "from random import sample\n",
    "\n",
    "# given data frame df\n",
    "\n",
    "# create random index\n",
    "rindex =  np.array(sample(xrange(len(df)), 10))\n",
    "\n",
    "# get 10 random rows from df\n",
    "dfr = df.ix[rindex]\n"
   ]
  }
 ],
 "metadata": {
  "kernelspec": {
   "display_name": "Python 3",
   "language": "python",
   "name": "python3"
  },
  "language_info": {
   "codemirror_mode": {
    "name": "ipython",
    "version": 3
   },
   "file_extension": ".py",
   "mimetype": "text/x-python",
   "name": "python",
   "nbconvert_exporter": "python",
   "pygments_lexer": "ipython3",
   "version": "3.8.3"
  }
 },
 "nbformat": 4,
 "nbformat_minor": 4
}
