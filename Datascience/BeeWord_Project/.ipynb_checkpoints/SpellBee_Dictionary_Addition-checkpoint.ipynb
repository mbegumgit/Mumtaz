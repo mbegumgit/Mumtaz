{
 "cells": [
  {
   "cell_type": "code",
   "execution_count": 4,
   "metadata": {},
   "outputs": [],
   "source": [
    "import pandas as pd\n",
    "import numpy as np\n",
    "from nltk.corpus import wordnet"
   ]
  },
  {
   "cell_type": "code",
   "execution_count": 16,
   "metadata": {},
   "outputs": [],
   "source": [
    "Bee_df = pd.read_csv('Bee_Docs/Spell_Bee_Merged_db.csv',encoding='utf-8-sig')\n"
   ]
  },
  {
   "cell_type": "code",
   "execution_count": 24,
   "metadata": {},
   "outputs": [],
   "source": [
    "\n",
    "des_arr =[]\n",
    "for word in Bee_df['Words']:\n",
    "    syndata = wordnet.synsets(word)\n",
    "    if syndata:\n",
    "        des_arr.append(syndata[0].definition())\n",
    "    else:\n",
    "        des_arr.append('Undefined')\n",
    "\n"
   ]
  },
  {
   "cell_type": "code",
   "execution_count": 23,
   "metadata": {},
   "outputs": [],
   "source": [
    "Bee_df.insert(3,'Description',des_arr)\n",
    "Bee_df.to_csv('Bee_Docs/Spell_Bee_DescriptionAdded_db.csv',encoding='utf-8-sig')"
   ]
  },
  {
   "cell_type": "code",
   "execution_count": 51,
   "metadata": {},
   "outputs": [],
   "source": [
    "filt = Bee_df['Description'] == 'Undefined'\n",
    "Idx=Bee_df.loc[filt,'Description'].index\n",
    "X=pd.DataFrame({'Undefined Index': np.array(Idx)})\n",
    "X.set_index('Undefined Index', inplace=True)\n",
    "Y=Bee_df.loc[filt,'Words']\n",
    "y = pd.DataFrame(Y)\n",
    "y.index.names=['Undefined Index']\n",
    "X=pd.merge(X,y,how='inner',on='Undefined Index')\n",
    "X.to_csv('Bee_Docs/Spell_Bee_UndefinedWord_db.csv',encoding='utf-8-sig')"
   ]
  },
  {
   "cell_type": "code",
   "execution_count": null,
   "metadata": {},
   "outputs": [],
   "source": []
  }
 ],
 "metadata": {
  "kernelspec": {
   "display_name": "Python 3",
   "language": "python",
   "name": "python3"
  },
  "language_info": {
   "codemirror_mode": {
    "name": "ipython",
    "version": 3
   },
   "file_extension": ".py",
   "mimetype": "text/x-python",
   "name": "python",
   "nbconvert_exporter": "python",
   "pygments_lexer": "ipython3",
   "version": "3.8.3"
  }
 },
 "nbformat": 4,
 "nbformat_minor": 4
}
