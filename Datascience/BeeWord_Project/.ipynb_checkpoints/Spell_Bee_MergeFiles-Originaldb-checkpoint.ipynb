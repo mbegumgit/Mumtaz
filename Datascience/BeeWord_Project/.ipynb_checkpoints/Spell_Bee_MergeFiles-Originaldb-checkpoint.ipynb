{
 "cells": [
  {
   "cell_type": "code",
   "execution_count": 2,
   "metadata": {},
   "outputs": [],
   "source": [
    "# Importing Libraries\n",
    "\n",
    "import numpy as np\n",
    "\n",
    "import pandas as pd"
   ]
  },
  {
   "cell_type": "markdown",
   "metadata": {},
   "source": [
    "# This version is to merge all the Spell Bee Words - WOC and SOW . Get the unique words to upload to Sql DB"
   ]
  },
  {
   "cell_type": "markdown",
   "metadata": {},
   "source": [
    "Reading all the spellbee Words from spreadsheet"
   ]
  },
  {
   "cell_type": "code",
   "execution_count": 2,
   "metadata": {},
   "outputs": [],
   "source": [
    "# SpellBee_2021_WoC_df = pd.read_csv('Bee_Docs/Spelling Bee - Database.xlsx', sheet_name='2021_WoC')\n",
    "# SpellBee_2021_School_df = pd.read_csv('Bee_Docs/Spelling Bee - Database.xlsx', sheet_name='2021_School')\n",
    "# SpellBee_2020_WoC_df = pd.read_csv('Bee_Docs/Spelling Bee - Database.xlsx', sheet_name='2020_WoC')\n",
    "# SpellBee_2020_School_df = pd.read_csv('Bee_Docs/Spelling Bee - Database.xlsx', sheet_name='2020_School')"
   ]
  },
  {
   "cell_type": "code",
   "execution_count": 3,
   "metadata": {},
   "outputs": [],
   "source": [
    "SpellBee_2021_WoC_df = pd.read_csv('Bee_Docs/2021_Words of the Champions_Output.csv')\n",
    "SpellBee_2021_School_df = pd.read_csv('Bee_Docs/2021_School of Words_Output.csv')\n",
    "SpellBee_2020_WoC_df = pd.read_csv('Bee_Docs/2020_Words Of Champions_Output.csv')\n",
    "SpellBee_2020_School_df = pd.read_csv('Bee_Docs/2020_School of Words_Output.csv')"
   ]
  },
  {
   "cell_type": "markdown",
   "metadata": {},
   "source": [
    "Extracting only Words"
   ]
  },
  {
   "cell_type": "code",
   "execution_count": 32,
   "metadata": {},
   "outputs": [],
   "source": [
    "SpellBee_2021 =SpellBee_2021_WoC_df[['Difficulty Level','Words']]\n",
    "SpellBee_2021['WOC_2021'] = 1\n",
    "SpellBee_2021['SOW_2021'] = 0"
   ]
  },
  {
   "cell_type": "code",
   "execution_count": 33,
   "metadata": {},
   "outputs": [],
   "source": [
    "SpellBee_2021 = pd.merge(SpellBee_2021,SpellBee_2021_School_df['Words'],how=\"outer\",on=['Words'])\n"
   ]
  },
  {
   "cell_type": "code",
   "execution_count": 34,
   "metadata": {},
   "outputs": [
    {
     "data": {
      "text/html": [
       "<div>\n",
       "<style scoped>\n",
       "    .dataframe tbody tr th:only-of-type {\n",
       "        vertical-align: middle;\n",
       "    }\n",
       "\n",
       "    .dataframe tbody tr th {\n",
       "        vertical-align: top;\n",
       "    }\n",
       "\n",
       "    .dataframe thead th {\n",
       "        text-align: right;\n",
       "    }\n",
       "</style>\n",
       "<table border=\"1\" class=\"dataframe\">\n",
       "  <thead>\n",
       "    <tr style=\"text-align: right;\">\n",
       "      <th></th>\n",
       "      <th>Difficulty Level</th>\n",
       "      <th>Words</th>\n",
       "      <th>WOC_2021</th>\n",
       "      <th>SOW_2021</th>\n",
       "    </tr>\n",
       "  </thead>\n",
       "  <tbody>\n",
       "    <tr>\n",
       "      <th>4060</th>\n",
       "      <td>SOW</td>\n",
       "      <td>insisted</td>\n",
       "      <td>0.0</td>\n",
       "      <td>1.0</td>\n",
       "    </tr>\n",
       "    <tr>\n",
       "      <th>4061</th>\n",
       "      <td>SOW</td>\n",
       "      <td>knickerbocker</td>\n",
       "      <td>0.0</td>\n",
       "      <td>1.0</td>\n",
       "    </tr>\n",
       "  </tbody>\n",
       "</table>\n",
       "</div>"
      ],
      "text/plain": [
       "     Difficulty Level          Words  WOC_2021  SOW_2021\n",
       "4060              SOW       insisted       0.0       1.0\n",
       "4061              SOW  knickerbocker       0.0       1.0"
      ]
     },
     "execution_count": 34,
     "metadata": {},
     "output_type": "execute_result"
    }
   ],
   "source": [
    "SpellBee_2021['Difficulty Level'].fillna('SOW',inplace=True)\n",
    "filt = SpellBee_2021.loc[SpellBee_2021['Difficulty Level'] == 'SOW'].index\n",
    "SpellBee_2021.loc[filt,'WOC_2021'] = 0\n",
    "SpellBee_2021.loc[filt,'SOW_2021'] = 1\n",
    "SpellBee_2021.loc[filt] "
   ]
  },
  {
   "cell_type": "code",
   "execution_count": 30,
   "metadata": {},
   "outputs": [],
   "source": [
    " "
   ]
  },
  {
   "cell_type": "code",
   "execution_count": 107,
   "metadata": {},
   "outputs": [],
   "source": [
    " Bee_Output =SpellBee_2021.copy()"
   ]
  },
  {
   "cell_type": "code",
   "execution_count": 36,
   "metadata": {},
   "outputs": [],
   "source": [
    "#SpellBee_2021.to_csv('Bee_Docs/Spell_Bee_2021_merged.csv',encoding='utf-8-sig')"
   ]
  },
  {
   "cell_type": "code",
   "execution_count": 108,
   "metadata": {},
   "outputs": [],
   "source": [
    "Bee_Output['WOC_2020'] = 0 # Adding new column with default value as 0\n",
    "Bee_Output = pd.merge( Bee_Output,SpellBee_2020_WoC_df[['Difficulty Level','Words']].dropna(),how=\"outer\",on=['Words','Difficulty Level']) # merging \n",
    "#Bee_Output.tail()"
   ]
  },
  {
   "cell_type": "code",
   "execution_count": 109,
   "metadata": {},
   "outputs": [
    {
     "data": {
      "text/html": [
       "<div>\n",
       "<style scoped>\n",
       "    .dataframe tbody tr th:only-of-type {\n",
       "        vertical-align: middle;\n",
       "    }\n",
       "\n",
       "    .dataframe tbody tr th {\n",
       "        vertical-align: top;\n",
       "    }\n",
       "\n",
       "    .dataframe thead th {\n",
       "        text-align: right;\n",
       "    }\n",
       "</style>\n",
       "<table border=\"1\" class=\"dataframe\">\n",
       "  <thead>\n",
       "    <tr style=\"text-align: right;\">\n",
       "      <th></th>\n",
       "      <th>Difficulty Level</th>\n",
       "      <th>Words</th>\n",
       "      <th>WOC_2021</th>\n",
       "      <th>SOW_2021</th>\n",
       "      <th>WOC_2020</th>\n",
       "    </tr>\n",
       "  </thead>\n",
       "  <tbody>\n",
       "    <tr>\n",
       "      <th>4062</th>\n",
       "      <td>ONE</td>\n",
       "      <td>punting</td>\n",
       "      <td>0.0</td>\n",
       "      <td>0.0</td>\n",
       "      <td>1.0</td>\n",
       "    </tr>\n",
       "    <tr>\n",
       "      <th>4063</th>\n",
       "      <td>ONE</td>\n",
       "      <td>seal</td>\n",
       "      <td>0.0</td>\n",
       "      <td>0.0</td>\n",
       "      <td>1.0</td>\n",
       "    </tr>\n",
       "    <tr>\n",
       "      <th>4064</th>\n",
       "      <td>ONE</td>\n",
       "      <td>ash</td>\n",
       "      <td>0.0</td>\n",
       "      <td>0.0</td>\n",
       "      <td>1.0</td>\n",
       "    </tr>\n",
       "    <tr>\n",
       "      <th>4065</th>\n",
       "      <td>ONE</td>\n",
       "      <td>filters</td>\n",
       "      <td>0.0</td>\n",
       "      <td>0.0</td>\n",
       "      <td>1.0</td>\n",
       "    </tr>\n",
       "    <tr>\n",
       "      <th>4066</th>\n",
       "      <td>ONE</td>\n",
       "      <td>beeswax</td>\n",
       "      <td>0.0</td>\n",
       "      <td>0.0</td>\n",
       "      <td>1.0</td>\n",
       "    </tr>\n",
       "    <tr>\n",
       "      <th>...</th>\n",
       "      <td>...</td>\n",
       "      <td>...</td>\n",
       "      <td>...</td>\n",
       "      <td>...</td>\n",
       "      <td>...</td>\n",
       "    </tr>\n",
       "    <tr>\n",
       "      <th>4876</th>\n",
       "      <td>THREE</td>\n",
       "      <td>brioche</td>\n",
       "      <td>0.0</td>\n",
       "      <td>0.0</td>\n",
       "      <td>1.0</td>\n",
       "    </tr>\n",
       "    <tr>\n",
       "      <th>4877</th>\n",
       "      <td>THREE</td>\n",
       "      <td>saponaceous</td>\n",
       "      <td>0.0</td>\n",
       "      <td>0.0</td>\n",
       "      <td>1.0</td>\n",
       "    </tr>\n",
       "    <tr>\n",
       "      <th>4878</th>\n",
       "      <td>THREE</td>\n",
       "      <td>carapace</td>\n",
       "      <td>0.0</td>\n",
       "      <td>0.0</td>\n",
       "      <td>1.0</td>\n",
       "    </tr>\n",
       "    <tr>\n",
       "      <th>4879</th>\n",
       "      <td>THREE</td>\n",
       "      <td>Unnamed</td>\n",
       "      <td>0.0</td>\n",
       "      <td>0.0</td>\n",
       "      <td>1.0</td>\n",
       "    </tr>\n",
       "    <tr>\n",
       "      <th>4880</th>\n",
       "      <td>THREE</td>\n",
       "      <td>Foley</td>\n",
       "      <td>0.0</td>\n",
       "      <td>0.0</td>\n",
       "      <td>1.0</td>\n",
       "    </tr>\n",
       "  </tbody>\n",
       "</table>\n",
       "<p>819 rows × 5 columns</p>\n",
       "</div>"
      ],
      "text/plain": [
       "     Difficulty Level        Words  WOC_2021  SOW_2021  WOC_2020\n",
       "4062              ONE      punting       0.0       0.0       1.0\n",
       "4063              ONE         seal       0.0       0.0       1.0\n",
       "4064              ONE          ash       0.0       0.0       1.0\n",
       "4065              ONE      filters       0.0       0.0       1.0\n",
       "4066              ONE      beeswax       0.0       0.0       1.0\n",
       "...               ...          ...       ...       ...       ...\n",
       "4876            THREE      brioche       0.0       0.0       1.0\n",
       "4877            THREE  saponaceous       0.0       0.0       1.0\n",
       "4878            THREE     carapace       0.0       0.0       1.0\n",
       "4879            THREE      Unnamed       0.0       0.0       1.0\n",
       "4880            THREE        Foley       0.0       0.0       1.0\n",
       "\n",
       "[819 rows x 5 columns]"
      ]
     },
     "execution_count": 109,
     "metadata": {},
     "output_type": "execute_result"
    }
   ],
   "source": [
    "Bee_Output['WOC_2020'].fillna(1,inplace=True) #masking\n",
    "filt = Bee_Output.loc[Bee_Output['WOC_2020'] == 1].index # filtering the row indexes satisfying the condition\n",
    "Bee_Output.loc[filt,['SOW_2021','WOC_2021']] = 0 # filtering columnns  and updating with zeros\n",
    "#Bee_Output.loc[filt,'WOC_2020'] = 1 \n",
    "Bee_Output.loc[filt] "
   ]
  },
  {
   "cell_type": "code",
   "execution_count": 111,
   "metadata": {},
   "outputs": [],
   "source": [
    "Bee_Output['SOW_2020'] = 0\n",
    "Bee_Output = pd.merge( Bee_Output,SpellBee_2020_School_df['Words'].dropna(),how=\"outer\",on=['Words'])"
   ]
  },
  {
   "cell_type": "code",
   "execution_count": 112,
   "metadata": {},
   "outputs": [
    {
     "data": {
      "text/html": [
       "<div>\n",
       "<style scoped>\n",
       "    .dataframe tbody tr th:only-of-type {\n",
       "        vertical-align: middle;\n",
       "    }\n",
       "\n",
       "    .dataframe tbody tr th {\n",
       "        vertical-align: top;\n",
       "    }\n",
       "\n",
       "    .dataframe thead th {\n",
       "        text-align: right;\n",
       "    }\n",
       "</style>\n",
       "<table border=\"1\" class=\"dataframe\">\n",
       "  <thead>\n",
       "    <tr style=\"text-align: right;\">\n",
       "      <th></th>\n",
       "      <th>Difficulty Level</th>\n",
       "      <th>Words</th>\n",
       "      <th>WOC_2021</th>\n",
       "      <th>SOW_2021</th>\n",
       "      <th>WOC_2020</th>\n",
       "      <th>SOW_2020</th>\n",
       "    </tr>\n",
       "  </thead>\n",
       "  <tbody>\n",
       "  </tbody>\n",
       "</table>\n",
       "</div>"
      ],
      "text/plain": [
       "Empty DataFrame\n",
       "Columns: [Difficulty Level, Words, WOC_2021, SOW_2021, WOC_2020, SOW_2020]\n",
       "Index: []"
      ]
     },
     "execution_count": 112,
     "metadata": {},
     "output_type": "execute_result"
    }
   ],
   "source": [
    "Bee_Output['Difficulty Level'].fillna('Undefined',inplace=True)\n",
    "filt = Bee_Output.loc[Bee_Output['Difficulty Level'] == 'Undefined'].index\n",
    "Bee_Output.loc[filt,['SOW_2021','WOC_2021','WOC_2020']] = 0\n",
    "Bee_Output.loc[filt,'SOW_2020'] = 1\n",
    "Bee_Output.loc[filt] "
   ]
  },
  {
   "cell_type": "code",
   "execution_count": 116,
   "metadata": {},
   "outputs": [],
   "source": [
    "Bee_Output_bkp = Bee_Output.copy()"
   ]
  },
  {
   "cell_type": "code",
   "execution_count": 114,
   "metadata": {},
   "outputs": [],
   "source": [
    "Bee_Output.to_csv('Bee_Docs/Spell_Bee_All_merged.csv',encoding='utf-8-sig')"
   ]
  },
  {
   "cell_type": "markdown",
   "metadata": {},
   "source": [
    "# Updating SOW/WOC flag based on occurence"
   ]
  },
  {
   "cell_type": "code",
   "execution_count": 115,
   "metadata": {},
   "outputs": [],
   "source": [
    "SpellBee_All_df = pd.read_csv('Bee_Docs/Spell_Bee_All_merged.csv')"
   ]
  },
  {
   "cell_type": "code",
   "execution_count": 117,
   "metadata": {},
   "outputs": [],
   "source": [
    "class Bee():\n",
    "    def __init__(self,df):\n",
    "        self.SpellBee_All_df = df\n",
    "        \n",
    "    def Flag_Update(self,SpellBee_df, Flag):\n",
    "        for word in SpellBee_df['Words']:\n",
    "            filt = self.SpellBee_All_df.loc[self.SpellBee_All_df['Words'] == word ].index\n",
    "            self.SpellBee_All_df.loc[filt,Flag] =1\n",
    "            \n",
    "            \n",
    "\n",
    "B1=Bee(SpellBee_All_df)\n",
    "Flag_List = [[SpellBee_2021_School_df,'SOW_2021'],[SpellBee_2020_School_df,'SOW_2020'],[SpellBee_2020_WoC_df,'WOC_2020']]\n",
    "for item in Flag_List:\n",
    "    B1.Flag_Update(item[0],item[1])\n",
    "Output_Bee_df = B1.SpellBee_All_df\n",
    "#SpellBee_2020_School_df['Words']\n"
   ]
  },
  {
   "cell_type": "code",
   "execution_count": 118,
   "metadata": {},
   "outputs": [
    {
     "data": {
      "text/html": [
       "<div>\n",
       "<style scoped>\n",
       "    .dataframe tbody tr th:only-of-type {\n",
       "        vertical-align: middle;\n",
       "    }\n",
       "\n",
       "    .dataframe tbody tr th {\n",
       "        vertical-align: top;\n",
       "    }\n",
       "\n",
       "    .dataframe thead th {\n",
       "        text-align: right;\n",
       "    }\n",
       "</style>\n",
       "<table border=\"1\" class=\"dataframe\">\n",
       "  <thead>\n",
       "    <tr style=\"text-align: right;\">\n",
       "      <th></th>\n",
       "      <th>Difficulty Level</th>\n",
       "      <th>Words</th>\n",
       "      <th>WOC_2021</th>\n",
       "      <th>SOW_2021</th>\n",
       "      <th>WOC_2020</th>\n",
       "      <th>SOW_2020</th>\n",
       "    </tr>\n",
       "  </thead>\n",
       "  <tbody>\n",
       "    <tr>\n",
       "      <th>0</th>\n",
       "      <td>ONE</td>\n",
       "      <td>gel</td>\n",
       "      <td>1</td>\n",
       "      <td>1</td>\n",
       "      <td>0</td>\n",
       "      <td>0</td>\n",
       "    </tr>\n",
       "    <tr>\n",
       "      <th>1</th>\n",
       "      <td>ONE</td>\n",
       "      <td>day</td>\n",
       "      <td>1</td>\n",
       "      <td>1</td>\n",
       "      <td>0</td>\n",
       "      <td>0</td>\n",
       "    </tr>\n",
       "    <tr>\n",
       "      <th>2</th>\n",
       "      <td>ONE</td>\n",
       "      <td>scorch</td>\n",
       "      <td>1</td>\n",
       "      <td>1</td>\n",
       "      <td>0</td>\n",
       "      <td>0</td>\n",
       "    </tr>\n",
       "    <tr>\n",
       "      <th>3</th>\n",
       "      <td>ONE</td>\n",
       "      <td>hear</td>\n",
       "      <td>1</td>\n",
       "      <td>1</td>\n",
       "      <td>0</td>\n",
       "      <td>0</td>\n",
       "    </tr>\n",
       "    <tr>\n",
       "      <th>4</th>\n",
       "      <td>ONE</td>\n",
       "      <td>sizzle</td>\n",
       "      <td>1</td>\n",
       "      <td>1</td>\n",
       "      <td>0</td>\n",
       "      <td>0</td>\n",
       "    </tr>\n",
       "    <tr>\n",
       "      <th>5</th>\n",
       "      <td>ONE</td>\n",
       "      <td>jotted</td>\n",
       "      <td>1</td>\n",
       "      <td>1</td>\n",
       "      <td>0</td>\n",
       "      <td>0</td>\n",
       "    </tr>\n",
       "    <tr>\n",
       "      <th>6</th>\n",
       "      <td>ONE</td>\n",
       "      <td>train</td>\n",
       "      <td>1</td>\n",
       "      <td>1</td>\n",
       "      <td>0</td>\n",
       "      <td>0</td>\n",
       "    </tr>\n",
       "    <tr>\n",
       "      <th>7</th>\n",
       "      <td>ONE</td>\n",
       "      <td>upset</td>\n",
       "      <td>1</td>\n",
       "      <td>1</td>\n",
       "      <td>0</td>\n",
       "      <td>0</td>\n",
       "    </tr>\n",
       "    <tr>\n",
       "      <th>8</th>\n",
       "      <td>ONE</td>\n",
       "      <td>motor</td>\n",
       "      <td>1</td>\n",
       "      <td>1</td>\n",
       "      <td>0</td>\n",
       "      <td>0</td>\n",
       "    </tr>\n",
       "    <tr>\n",
       "      <th>9</th>\n",
       "      <td>ONE</td>\n",
       "      <td>sprint</td>\n",
       "      <td>1</td>\n",
       "      <td>1</td>\n",
       "      <td>0</td>\n",
       "      <td>0</td>\n",
       "    </tr>\n",
       "  </tbody>\n",
       "</table>\n",
       "</div>"
      ],
      "text/plain": [
       "  Difficulty Level   Words  WOC_2021  SOW_2021  WOC_2020  SOW_2020\n",
       "0              ONE     gel         1         1         0         0\n",
       "1              ONE     day         1         1         0         0\n",
       "2              ONE  scorch         1         1         0         0\n",
       "3              ONE    hear         1         1         0         0\n",
       "4              ONE  sizzle         1         1         0         0\n",
       "5              ONE  jotted         1         1         0         0\n",
       "6              ONE   train         1         1         0         0\n",
       "7              ONE   upset         1         1         0         0\n",
       "8              ONE   motor         1         1         0         0\n",
       "9              ONE  sprint         1         1         0         0"
      ]
     },
     "execution_count": 118,
     "metadata": {},
     "output_type": "execute_result"
    }
   ],
   "source": [
    "Output_Bee_df.drop(['Unnamed: 0'], axis=1,inplace=True)\n",
    "Output_Bee_df.head(10)"
   ]
  },
  {
   "cell_type": "code",
   "execution_count": null,
   "metadata": {},
   "outputs": [],
   "source": [
    "\n"
   ]
  },
  {
   "cell_type": "code",
   "execution_count": 119,
   "metadata": {},
   "outputs": [],
   "source": [
    "Output_Bee_df.to_csv('Bee_Docs/Spell_Bee_Merged_db.csv',encoding='utf-8-sig')"
   ]
  }
 ],
 "metadata": {
  "kernelspec": {
   "display_name": "Python 3",
   "language": "python",
   "name": "python3"
  },
  "language_info": {
   "codemirror_mode": {
    "name": "ipython",
    "version": 3
   },
   "file_extension": ".py",
   "mimetype": "text/x-python",
   "name": "python",
   "nbconvert_exporter": "python",
   "pygments_lexer": "ipython3",
   "version": "3.8.3"
  }
 },
 "nbformat": 4,
 "nbformat_minor": 4
}
