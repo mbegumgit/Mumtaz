{
 "cells": [
  {
   "cell_type": "code",
   "execution_count": 3,
   "metadata": {},
   "outputs": [
    {
     "name": "stdout",
     "output_type": "stream",
     "text": [
      "('4880', 'THREE', 'Foley')\n"
     ]
    }
   ],
   "source": [
    "import csv\n",
    "inp_file = open(\"docs/Spell_Bee_Merged_db.csv\")\n",
    "rows = csv.reader(inp_file)\n",
    "for row in rows:\n",
    "    data=(row[0],row[1],row[2])  \n",
    "print(data)"
   ]
  },
  {
   "cell_type": "code",
   "execution_count": 10,
   "metadata": {},
   "outputs": [
    {
     "name": "stdout",
     "output_type": "stream",
     "text": [
      "14643\n"
     ]
    }
   ],
   "source": [
    "import sqlite3\n",
    "conn = sqlite3.connect(r\"C:\\Users\\User\\projects\\Datascience\\BeeWord_Project\\Bee_Project\\db.sqlite3\")\n",
    "cur = conn.cursor()\n",
    "\n",
    "totalcnt =cur.execute(\"SELECT *   FROM Spellbeeword_Score_tb \" )\n",
    "print(len(totalcnt.fetchall()))\n",
    "\n",
    "conn.close()"
   ]
  },
  {
   "cell_type": "code",
   "execution_count": 8,
   "metadata": {},
   "outputs": [
    {
     "name": "stdout",
     "output_type": "stream",
     "text": [
      "[(2, 0, 0, 1, 0), (3262, 0, 0, 1, 0), (8054, 0, 0, 1, 0)]\n"
     ]
    }
   ],
   "source": [
    "import sqlite3\n",
    "conn = sqlite3.connect(r\"C:\\Users\\User\\projects\\Datascience\\BeeWord_Project\\Bee_Project\\db.sqlite3\")\n",
    "cur = conn.cursor()\n",
    "row =cur.execute(\"SELECT *   FROM Spellbeeword_Score_tb WHERE id = 1 \" )\n",
    "totalcnt =cur.execute(\"SELECT *   FROM Spellbeeword_Score_tb WHERE pickword_id = 1 \" )\n",
    "print(totalcnt.fetchall())\n",
    "\n",
    "conn.close()"
   ]
  },
  {
   "cell_type": "code",
   "execution_count": 23,
   "metadata": {},
   "outputs": [
    {
     "name": "stdout",
     "output_type": "stream",
     "text": [
      "4881\n"
     ]
    }
   ],
   "source": [
    "\n",
    "conn = sqlite3.connect(r\"C:\\Users\\User\\projects\\Datascience\\BeeWord_Project\\Bee_Project\\db.sqlite3\")\n",
    "cur = conn.cursor()\n",
    "\n",
    "totalcnt=cur.execute(\"SELECT *   FROM Spellbeeword_tb \" )\n",
    "print(len(totalcnt.fetchall()))\n",
    "\n",
    "conn.close()"
   ]
  },
  {
   "cell_type": "code",
   "execution_count": 18,
   "metadata": {},
   "outputs": [],
   "source": [
    "conn = sqlite3.connect(r\"C:\\Users\\User\\projects\\Datascience\\BeeWord_Project\\Bee_Project\\db.sqlite3\")\n",
    "cur = conn.cursor()\n",
    "cur.execute(\"DELETE  FROM Spellbeeword_Score_tb where id = 14643\" )\n",
    "\n",
    "conn.commit()\n",
    "conn.close()"
   ]
  },
  {
   "cell_type": "code",
   "execution_count": null,
   "metadata": {},
   "outputs": [],
   "source": []
  }
 ],
 "metadata": {
  "kernelspec": {
   "display_name": "Python 3",
   "language": "python",
   "name": "python3"
  },
  "language_info": {
   "codemirror_mode": {
    "name": "ipython",
    "version": 3
   },
   "file_extension": ".py",
   "mimetype": "text/x-python",
   "name": "python",
   "nbconvert_exporter": "python",
   "pygments_lexer": "ipython3",
   "version": "3.8.3"
  }
 },
 "nbformat": 4,
 "nbformat_minor": 4
}
