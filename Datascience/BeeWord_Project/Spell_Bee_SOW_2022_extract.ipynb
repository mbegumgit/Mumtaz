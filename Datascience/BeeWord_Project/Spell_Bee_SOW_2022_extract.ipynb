{
 "cells": [
  {
   "cell_type": "markdown",
   "metadata": {},
   "source": [
    "#        # School of words 2022"
   ]
  },
  {
   "cell_type": "code",
   "execution_count": 9,
   "metadata": {},
   "outputs": [],
   "source": [
    "\n",
    "# Importing Libraries\n",
    "\n",
    "import numpy as np\n",
    "import tabula\n",
    "import pandas as pd"
   ]
  },
  {
   "cell_type": "markdown",
   "metadata": {},
   "source": [
    " PikePDF can be used to open encrypted files (Created by Acrobat 6.0). Below is the simple code:\n",
    "Output file is no longer password protected."
   ]
  },
  {
   "cell_type": "code",
   "execution_count": 10,
   "metadata": {},
   "outputs": [],
   "source": [
    "\n",
    "from pikepdf import Pdf\n",
    "with Pdf.open('Bee_Docs/Spelling Bee 2021-2022 Study List.pdf') as pdf:\n",
    "    pdf.save('Bee_Docs/Bee_Word_2022_decrypt.pdf')"
   ]
  },
  {
   "cell_type": "code",
   "execution_count": 25,
   "metadata": {},
   "outputs": [
    {
     "name": "stdout",
     "output_type": "stream",
     "text": [
      "Enter the file path /filename to extract:Bee_Docs/Bee_Word_2022_decrypt.pdf\n",
      "Enter how many pages in Pdf Bee_Docs/SOW file:3\n"
     ]
    },
    {
     "name": "stderr",
     "output_type": "stream",
     "text": [
      "Got stderr: Dec 11, 2021 2:56:25 PM org.apache.pdfbox.pdmodel.graphics.color.PDICCBased ensureDisplayProfile\r\n",
      "WARNING: ICC profile is Perceptual, ignoring, treating as Display class\r\n",
      "Dec 11, 2021 2:56:25 PM org.apache.pdfbox.pdmodel.graphics.color.PDICCBased ensureDisplayProfile\r\n",
      "WARNING: ICC profile is Perceptual, ignoring, treating as Display class\r\n",
      "\n"
     ]
    },
    {
     "name": "stdout",
     "output_type": "stream",
     "text": [
      "Reading Page no: 1\n",
      "Length of array : 140\n",
      "Reading Page no: 2\n",
      "Length of array : 320\n",
      "Reading Page no: 3\n",
      "Length of array : 456\n",
      "Writing into dataframe\n"
     ]
    }
   ],
   "source": [
    "file =input('Enter the file path /filename to extract:')\n",
    "page =int(input('Enter how many pages in Pdf Bee_Docs/SOW file:'))\n",
    "\n",
    "def Array_handling(df_data):\n",
    "    sample_list=''\n",
    "    for item in df_data:\n",
    "        sample_list= ','.join(item)\n",
    "        x=np.array(sample_list.split(','))\n",
    "        y=np.array(df_data[0])\n",
    "        return np.append(x,y)\n",
    "        \n",
    "def Read_Pdf(file,page) :      \n",
    "    words_array = []\n",
    "#file = 'Bee_Docs/Spelling Bee_School Of Word_2022_decrypt.pdf'\n",
    "    for pg in range(1,page+1):\n",
    "        data=tabula.read_pdf(file,pages=pg)\n",
    "        # handle page 2 alone using area parameter to extract as this file behaves differently for page 2, Remove page 2 \n",
    "        # condition for other files\n",
    "        if pg == 2:\n",
    "            data= tabula.read_pdf(\"Bee_Docs/Bee_Word_2022_decrypt.pdf\",guess=False,pages=pg,area=(5,5,90,100),relative_area=True)\n",
    "        print('Reading Page no:',pg)\n",
    "        # Appending each page in an array\n",
    "        words_array=np.append(words_array,Array_handling(data)) \n",
    "        print('Length of array :',len(words_array))\n",
    "    print('Writing into dataframe')\n",
    "    Output_df = pd.DataFrame({'Words':words_array})\n",
    "    Bee_Output_df = Output_df.copy()\n",
    "    Bee_Output_df.dropna(axis=0, inplace=True)\n",
    "    filt=Bee_Output_df.loc[Bee_Output_df['Words'].str.contains('Unnamed:')].index\n",
    "    Bee_Output_df.drop(filt,axis=0,inplace=True)\n",
    "    Bee_Output_df.reset_index(inplace=True)\n",
    "    Bee_Output_df.drop(['index'],axis=1,inplace=True)\n",
    "    return Bee_Output_df\n",
    "# Calling PDf read function     \n",
    "Bee_Output_df = Read_Pdf(file,page)\n",
    "Output_df = Bee_Output_df.copy()"
   ]
  },
  {
   "cell_type": "markdown",
   "metadata": {},
   "source": [
    "Parsing OR  / ** suffixed/prefixxed  words from dataframe"
   ]
  },
  {
   "cell_type": "code",
   "execution_count": 26,
   "metadata": {},
   "outputs": [
    {
     "data": {
      "text/plain": [
       "Words    455\n",
       "dtype: int64"
      ]
     },
     "execution_count": 26,
     "metadata": {},
     "output_type": "execute_result"
    }
   ],
   "source": [
    "\n",
    "Output_df.count()\n"
   ]
  },
  {
   "cell_type": "code",
   "execution_count": 27,
   "metadata": {},
   "outputs": [],
   "source": [
    "import re\n",
    "#items = ['maharajah', 'Up OR', '*fff   OR','doctor','as-is-that', 'le cafe']\n",
    "def Orsplit(x):\n",
    "    match = re.findall('\\**([\\w+\\s*\\w*]*)\\s+OR|\\**(\\w+((\\s*|-)\\w+)*)',x)\n",
    "    for item in match[0]:\n",
    "        if item != '':\n",
    "            return item \n",
    "#for item in items:\n",
    " #   print(Orsplit(item))\n",
    "Bee_Output_df['Words'] = Bee_Output_df['Words'].apply(Orsplit)\n",
    "\n",
    "# Writing into CSV file\n",
    "Bee_Output_df.to_csv('Bee_Docs/2022_School of Words_Output_v1.csv',encoding='utf-8-sig')"
   ]
  },
  {
   "cell_type": "code",
   "execution_count": null,
   "metadata": {},
   "outputs": [],
   "source": []
  }
 ],
 "metadata": {
  "kernelspec": {
   "display_name": "Python 3",
   "language": "python",
   "name": "python3"
  },
  "language_info": {
   "codemirror_mode": {
    "name": "ipython",
    "version": 3
   },
   "file_extension": ".py",
   "mimetype": "text/x-python",
   "name": "python",
   "nbconvert_exporter": "python",
   "pygments_lexer": "ipython3",
   "version": "3.8.3"
  }
 },
 "nbformat": 4,
 "nbformat_minor": 4
}
