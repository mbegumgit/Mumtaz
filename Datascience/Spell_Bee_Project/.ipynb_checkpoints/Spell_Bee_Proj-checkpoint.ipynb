{
 "cells": [
  {
   "cell_type": "code",
   "execution_count": 8,
   "metadata": {},
   "outputs": [
    {
     "name": "stdout",
     "output_type": "stream",
     "text": [
      "Page no: 3\n",
      "Page no: 4\n",
      "Page no: 5\n",
      "Page no: 6\n",
      "Page no: 7\n",
      "Page no: 8\n",
      "Page no: 9\n",
      "Page no: 10\n",
      "previous val ONE, Current Val TWO\n",
      "Page no: 11\n",
      "Page no: 12\n",
      "Page no: 13\n",
      "Page no: 14\n",
      "Page no: 15\n",
      "Page no: 16\n",
      "Page no: 17\n",
      "Page no: 18\n",
      "Page no: 19\n",
      "Page no: 20\n",
      "Page no: 21\n",
      "Page no: 22\n",
      "previous val TWO, Current Val THREE\n",
      "Page no: 23\n",
      "Page no: 24\n",
      "Page no: 25\n",
      "Page no: 26\n"
     ]
    },
    {
     "data": {
      "text/html": [
       "<div>\n",
       "<style scoped>\n",
       "    .dataframe tbody tr th:only-of-type {\n",
       "        vertical-align: middle;\n",
       "    }\n",
       "\n",
       "    .dataframe tbody tr th {\n",
       "        vertical-align: top;\n",
       "    }\n",
       "\n",
       "    .dataframe thead th {\n",
       "        text-align: right;\n",
       "    }\n",
       "</style>\n",
       "<table border=\"1\" class=\"dataframe\">\n",
       "  <thead>\n",
       "    <tr style=\"text-align: right;\">\n",
       "      <th></th>\n",
       "      <th>1</th>\n",
       "      <th>2</th>\n",
       "      <th>3</th>\n",
       "    </tr>\n",
       "  </thead>\n",
       "  <tbody>\n",
       "    <tr>\n",
       "      <th>0</th>\n",
       "      <td>gel</td>\n",
       "      <td>antsy</td>\n",
       "      <td>cladding</td>\n",
       "    </tr>\n",
       "    <tr>\n",
       "      <th>1</th>\n",
       "      <td>day</td>\n",
       "      <td>OR *humour</td>\n",
       "      <td>rummages</td>\n",
       "    </tr>\n",
       "    <tr>\n",
       "      <th>2</th>\n",
       "      <td>scorch</td>\n",
       "      <td>bracelet</td>\n",
       "      <td>astrologers</td>\n",
       "    </tr>\n",
       "    <tr>\n",
       "      <th>3</th>\n",
       "      <td>hear</td>\n",
       "      <td>cruel</td>\n",
       "      <td>bipolar</td>\n",
       "    </tr>\n",
       "    <tr>\n",
       "      <th>4</th>\n",
       "      <td>sizzle</td>\n",
       "      <td>dolce</td>\n",
       "      <td>politesse</td>\n",
       "    </tr>\n",
       "  </tbody>\n",
       "</table>\n",
       "</div>"
      ],
      "text/plain": [
       "        1           2            3\n",
       "0     gel       antsy     cladding\n",
       "1     day  OR *humour     rummages\n",
       "2  scorch    bracelet  astrologers\n",
       "3    hear       cruel      bipolar\n",
       "4  sizzle       dolce    politesse"
      ]
     },
     "execution_count": 8,
     "metadata": {},
     "output_type": "execute_result"
    }
   ],
   "source": [
    "import numpy as np\n",
    "import tabula\n",
    "import pandas as pd\n",
    "dataset = pd.DataFrame({'ONE': [], 'TWO':[],'THREE':[]})\n",
    "def Array_handling(df_data):\n",
    "    sample_list=''\n",
    "    for item in df_data:\n",
    "        sample_list= ','.join(item)\n",
    "    x=np.array(sample_list.split(','))\n",
    "    y=np.array(df_data[0])\n",
    "    return np.append(x,y)\n",
    "words_array=[]\n",
    "prev='ONE'\n",
    "\n",
    "df1 = pd.DataFrame({'index': []*100})\n",
    "for pg in range(3,27):\n",
    "    print('Page no:',pg)\n",
    "    df_new=tabula.read_pdf(\"Words_Bee.pdf\", pages=pg,area=(30,331,70,420))\n",
    "    x=str(df_new)\n",
    "  \n",
    "    def Lvl_chk(x):\n",
    "        num_lst =['ONE','TWO', 'THREE']\n",
    "        column_val=''\n",
    "    \n",
    "        for i in num_lst:\n",
    "             \n",
    "            if i in x:\n",
    "                 \n",
    "                column_val = i\n",
    "                return column_val\n",
    "        return None\n",
    "    \n",
    "    column_val =Lvl_chk(x)\n",
    "    \n",
    "    if column_val and prev == column_val:\n",
    "        df_data=tabula.read_pdf(\"Words_Bee.pdf\",pages=pg)\n",
    "        words_array=np.append(words_array,Array_handling(df_data))\n",
    "    elif column_val :\n",
    "        print('previous val {}, Current Val {}'.format(prev,column_val))\n",
    "        df2 = pd.DataFrame({prev:words_array})\n",
    "        df1 =pd.concat([df1,df2], ignore_index=True, axis=1)\n",
    "        \n",
    "        prev = column_val\n",
    "        words_array=[]\n",
    "        df_data=tabula.read_pdf(\"Words_Bee.pdf\",pages=pg)\n",
    "        words_array=np.append(words_array,Array_handling(df_data))\n",
    "        \n",
    "df2 = pd.DataFrame({prev:words_array})\n",
    "df1 =pd.concat([df1,df2], ignore_index=True, axis=1)      \n",
    "dataset=df1.iloc[:,1:4]\n",
    "dataset.head()\n",
    "        "
   ]
  },
  {
   "cell_type": "code",
   "execution_count": 9,
   "metadata": {},
   "outputs": [],
   "source": [
    "df_bkp=dataset.copy()"
   ]
  },
  {
   "cell_type": "code",
   "execution_count": 10,
   "metadata": {},
   "outputs": [],
   "source": [
    "dataset.to_csv('Spell_Bee_file.csv')"
   ]
  },
  {
   "cell_type": "code",
   "execution_count": 17,
   "metadata": {},
   "outputs": [
    {
     "name": "stderr",
     "output_type": "stream",
     "text": [
      "C:\\Users\\User\\Anaconda3\\lib\\site-packages\\pandas\\core\\frame.py:4147: SettingWithCopyWarning: \n",
      "A value is trying to be set on a copy of a slice from a DataFrame\n",
      "\n",
      "See the caveats in the documentation: https://pandas.pydata.org/pandas-docs/stable/user_guide/indexing.html#returning-a-view-versus-a-copy\n",
      "  return super().fillna(\n"
     ]
    }
   ],
   "source": [
    "dataset_new = dataset.dropna(axis=0,how='all')\n",
    "dataset_new.fillna('Null',inplace=True)\n",
    "dataset_new.to_csv('Spell_Bee_Dictionary.csv')"
   ]
  },
  {
   "cell_type": "code",
   "execution_count": 15,
   "metadata": {},
   "outputs": [
    {
     "data": {
      "text/plain": [
       "(2058, 3)"
      ]
     },
     "execution_count": 15,
     "metadata": {},
     "output_type": "execute_result"
    }
   ],
   "source": [
    "dataset.shape"
   ]
  },
  {
   "cell_type": "code",
   "execution_count": null,
   "metadata": {},
   "outputs": [],
   "source": [
    "pagehandle = pdf.getPage(pg)\n",
    "            x=pagehandle.extractText()\n",
    "            new_hdr=x.split('DIFFICULTY LEVEL')\n",
    "            print(new_hdr)\n",
    "            if len(new_hdr) > 1:\n",
    "\n",
    "                new_data =new_hdr[0].split('\\n')\n",
    "                print('new_data',new_data)\n",
    "                self.words_array= np.array(new_data[1:])\n",
    "                print('Inside Page ext:',self.words_array)\n",
    "                df = self.Create_DataFrame()\n",
    "\n",
    "                self.dataset =pd.concat([self.dataset,df], ignore_index=True, axis=0)\n",
    "\n",
    "                self.words_array=[]\n",
    "            elif new_hdr:\n",
    "                self.level = self.Lvl_chk(str(new_hdr))\n",
    "                print('level in fn', self.level)\n",
    "        return self.dataset"
   ]
  }
 ],
 "metadata": {
  "kernelspec": {
   "display_name": "Python 3",
   "language": "python",
   "name": "python3"
  },
  "language_info": {
   "codemirror_mode": {
    "name": "ipython",
    "version": 3
   },
   "file_extension": ".py",
   "mimetype": "text/x-python",
   "name": "python",
   "nbconvert_exporter": "python",
   "pygments_lexer": "ipython3",
   "version": "3.8.3"
  }
 },
 "nbformat": 4,
 "nbformat_minor": 4
}
