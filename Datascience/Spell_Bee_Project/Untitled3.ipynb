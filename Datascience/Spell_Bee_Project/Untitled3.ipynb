{
 "cells": [
  {
   "cell_type": "code",
   "execution_count": 3,
   "metadata": {},
   "outputs": [
    {
     "name": "stdout",
     "output_type": "stream",
     "text": [
      "Title case printing : Hi Mumtaz \n"
     ]
    }
   ],
   "source": [
    "class sample():\n",
    "    def __init__(self,x):\n",
    "        self.word =x\n",
    "    \n",
    "    def __str__(self):\n",
    "        return f\"Title case printing : {self.word.title()} \"\n",
    "s1 = sample('hi mumtaz')\n",
    "\n",
    "print(s1)"
   ]
  },
  {
   "cell_type": "code",
   "execution_count": 5,
   "metadata": {},
   "outputs": [
    {
     "name": "stdout",
     "output_type": "stream",
     "text": [
      "showing info https://raw.githubusercontent.com/nltk/nltk_data/gh-pages/index.xml\n"
     ]
    },
    {
     "data": {
      "text/plain": [
       "True"
      ]
     },
     "execution_count": 5,
     "metadata": {},
     "output_type": "execute_result"
    }
   ],
   "source": [
    "import nltk\n",
    "nltk.download()"
   ]
  },
  {
   "cell_type": "code",
   "execution_count": 25,
   "metadata": {},
   "outputs": [
    {
     "name": "stdout",
     "output_type": "stream",
     "text": [
      "Defination of the said word:\n",
      "with rapid movements\n",
      "\n",
      "Examples of the word in use::\n",
      "['he works quickly']\n"
     ]
    }
   ],
   "source": [
    "from nltk.corpus import wordnet \n",
    "syns1 = wordnet.synsets(\"quickly\")\n",
    "print(\"Defination of the said word:\")\n",
    "print(syns1[0].definition())\n",
    "print(\"\\nExamples of the word in use::\")\n",
    "print(syns1[0].examples())\n",
    "syns2 = wordnet.synsets(\"wonderful\")"
   ]
  },
  {
   "cell_type": "code",
   "execution_count": 26,
   "metadata": {},
   "outputs": [
    {
     "name": "stdout",
     "output_type": "stream",
     "text": [
      "[Synset('quickly.r.01'), Synset('promptly.r.01'), Synset('cursorily.r.01')]\n",
      "[Synset('fantastic.s.02')]\n"
     ]
    }
   ],
   "source": [
    "print(syns1)\n",
    "print(syns2)\n"
   ]
  },
  {
   "cell_type": "code",
   "execution_count": null,
   "metadata": {},
   "outputs": [],
   "source": []
  }
 ],
 "metadata": {
  "kernelspec": {
   "display_name": "Python 3",
   "language": "python",
   "name": "python3"
  },
  "language_info": {
   "codemirror_mode": {
    "name": "ipython",
    "version": 3
   },
   "file_extension": ".py",
   "mimetype": "text/x-python",
   "name": "python",
   "nbconvert_exporter": "python",
   "pygments_lexer": "ipython3",
   "version": "3.8.3"
  }
 },
 "nbformat": 4,
 "nbformat_minor": 4
}
