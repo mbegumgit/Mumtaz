{
 "cells": [
  {
   "cell_type": "code",
   "execution_count": 8,
   "metadata": {},
   "outputs": [
    {
     "name": "stdout",
     "output_type": "stream",
     "text": [
      "Page no: 3\n",
      "Page no: 4\n",
      "Page no: 5\n",
      "Page no: 6\n",
      "Page no: 7\n",
      "Page no: 8\n",
      "Page no: 9\n",
      "Page no: 10\n",
      "previous val ONE, Current Val TWO\n",
      "Page no: 11\n",
      "Page no: 12\n",
      "Page no: 13\n",
      "Page no: 14\n",
      "Page no: 15\n",
      "Page no: 16\n",
      "Page no: 17\n",
      "Page no: 18\n",
      "Page no: 19\n",
      "Page no: 20\n",
      "Page no: 21\n",
      "Page no: 22\n",
      "previous val TWO, Current Val THREE\n",
      "Page no: 23\n",
      "Page no: 24\n",
      "Page no: 25\n",
      "Page no: 26\n"
     ]
    },
    {
     "data": {
      "text/html": [
       "<div>\n",
       "<style scoped>\n",
       "    .dataframe tbody tr th:only-of-type {\n",
       "        vertical-align: middle;\n",
       "    }\n",
       "\n",
       "    .dataframe tbody tr th {\n",
       "        vertical-align: top;\n",
       "    }\n",
       "\n",
       "    .dataframe thead th {\n",
       "        text-align: right;\n",
       "    }\n",
       "</style>\n",
       "<table border=\"1\" class=\"dataframe\">\n",
       "  <thead>\n",
       "    <tr style=\"text-align: right;\">\n",
       "      <th></th>\n",
       "      <th>1</th>\n",
       "      <th>2</th>\n",
       "      <th>3</th>\n",
       "    </tr>\n",
       "  </thead>\n",
       "  <tbody>\n",
       "    <tr>\n",
       "      <th>0</th>\n",
       "      <td>gel</td>\n",
       "      <td>antsy</td>\n",
       "      <td>cladding</td>\n",
       "    </tr>\n",
       "    <tr>\n",
       "      <th>1</th>\n",
       "      <td>day</td>\n",
       "      <td>OR *humour</td>\n",
       "      <td>rummages</td>\n",
       "    </tr>\n",
       "    <tr>\n",
       "      <th>2</th>\n",
       "      <td>scorch</td>\n",
       "      <td>bracelet</td>\n",
       "      <td>astrologers</td>\n",
       "    </tr>\n",
       "    <tr>\n",
       "      <th>3</th>\n",
       "      <td>hear</td>\n",
       "      <td>cruel</td>\n",
       "      <td>bipolar</td>\n",
       "    </tr>\n",
       "    <tr>\n",
       "      <th>4</th>\n",
       "      <td>sizzle</td>\n",
       "      <td>dolce</td>\n",
       "      <td>politesse</td>\n",
       "    </tr>\n",
       "  </tbody>\n",
       "</table>\n",
       "</div>"
      ],
      "text/plain": [
       "        1           2            3\n",
       "0     gel       antsy     cladding\n",
       "1     day  OR *humour     rummages\n",
       "2  scorch    bracelet  astrologers\n",
       "3    hear       cruel      bipolar\n",
       "4  sizzle       dolce    politesse"
      ]
     },
     "execution_count": 8,
     "metadata": {},
     "output_type": "execute_result"
    }
   ],
   "source": [
    "import numpy as np\n",
    "import tabula\n",
    "import pandas as pd\n",
    "dataset = pd.DataFrame({'Difficulty Level': 'ONE', 'Words':[]})\n",
    "def Array_handling(df_data):\n",
    "    sample_list=''\n",
    "    for item in df_data:\n",
    "        sample_list= ','.join(item)\n",
    "    x=np.array(sample_list.split(','))\n",
    "    y=np.array(df_data[0])\n",
    "    return np.append(x,y)\n",
    "words_array=[]\n",
    "prev=dataset[0,0]\n",
    "\n",
    "#df1 = pd.DataFrame({'Difficulty Level': 'ONE'})\n",
    "for pg in range(3,27):\n",
    "    print('Page no:',pg)\n",
    "    df_new=tabula.read_pdf(\"Words_Bee.pdf\", pages=pg,area=(30,331,70,420))\n",
    "    x=str(df_new)\n",
    "  \n",
    "    def Lvl_chk(x):\n",
    "        num_lst =['ONE','TWO', 'THREE']\n",
    "        column_val=''\n",
    "    \n",
    "        for i in num_lst:\n",
    "             \n",
    "            if i in x:\n",
    "                 \n",
    "                column_val = i\n",
    "                return column_val\n",
    "        return None\n",
    "    \n",
    "    column_val =Lvl_chk(x)\n",
    "    \n",
    "    if column_val and prev == column_val:\n",
    "        df_data=tabula.read_pdf(\"Words_Bee.pdf\",pages=pg)\n",
    "        words_array=np.append(words_array,Array_handling(df_data))\n",
    "    elif column_val :\n",
    "        print('previous val {}, Current Val {}'.format(prev,column_val))\n",
    "        df2 = pd.DataFrame({prev:words_array})\n",
    "        df1 =pd.concat([df1,df2], ignore_index=True, axis=1)\n",
    "        \n",
    "        prev = column_val\n",
    "        words_array=[]\n",
    "        df_data=tabula.read_pdf(\"Words_Bee.pdf\",pages=pg)\n",
    "        words_array=np.append(words_array,Array_handling(df_data))\n",
    "        \n",
    "df2 = pd.DataFrame({prev:words_array})\n",
    "df1 =pd.concat([df1,df2], ignore_index=True, axis=1)      \n",
    "dataset=df1.iloc[:,1:4]\n",
    "dataset.head()\n",
    "        "
   ]
  },
  {
   "cell_type": "code",
   "execution_count": null,
   "metadata": {},
   "outputs": [],
   "source": []
  },
  {
   "cell_type": "code",
   "execution_count": 9,
   "metadata": {},
   "outputs": [],
   "source": [
    "df_bkp=dataset.copy()\n",
    "dataset['Words'] = dataset['Words'].apply(lambda x:x.split(\"OR \")[-1] if \"OR \" in x else x)"
   ]
  },
  {
   "cell_type": "code",
   "execution_count": 10,
   "metadata": {},
   "outputs": [],
   "source": [
    "dataset.to_csv('Spell_Bee_file.csv')"
   ]
  },
  {
   "cell_type": "code",
   "execution_count": 17,
   "metadata": {},
   "outputs": [
    {
     "name": "stderr",
     "output_type": "stream",
     "text": [
      "C:\\Users\\User\\Anaconda3\\lib\\site-packages\\pandas\\core\\frame.py:4147: SettingWithCopyWarning: \n",
      "A value is trying to be set on a copy of a slice from a DataFrame\n",
      "\n",
      "See the caveats in the documentation: https://pandas.pydata.org/pandas-docs/stable/user_guide/indexing.html#returning-a-view-versus-a-copy\n",
      "  return super().fillna(\n"
     ]
    }
   ],
   "source": [
    "dataset_new = dataset.dropna(axis=0,how='all')\n",
    "dataset_new.fillna('Null',inplace=True)\n",
    "dataset_new.to_csv('Spell_Bee_Dictionary.csv')"
   ]
  },
  {
   "cell_type": "code",
   "execution_count": 1,
   "metadata": {},
   "outputs": [],
   "source": [
    "import pyttsx3\n",
    "pyttsx3.speak(\"I will speak this text\")"
   ]
  },
  {
   "cell_type": "code",
   "execution_count": 2,
   "metadata": {},
   "outputs": [],
   "source": [
    "import pyttsx3\n",
    "engine = pyttsx3.init() # object creation\n",
    "engine.say(\"I will speak this text\")\n",
    "engine.runAndWait()"
   ]
  },
  {
   "cell_type": "code",
   "execution_count": 3,
   "metadata": {},
   "outputs": [
    {
     "name": "stdout",
     "output_type": "stream",
     "text": [
      "200\n"
     ]
    }
   ],
   "source": [
    "\"\"\" RATE\"\"\"\n",
    "rate = engine.getProperty('rate')   # getting details of current speaking rate\n",
    "print (rate)                        #printing current voice rate\n",
    "engine.setProperty('rate', 125)     # setting up new voice rate\n"
   ]
  },
  {
   "cell_type": "code",
   "execution_count": 4,
   "metadata": {},
   "outputs": [],
   "source": [
    "\"\"\"VOICE\"\"\"\n",
    "voices = engine.getProperty('voices')       #getting details of current voice\n",
    "#engine.setProperty('voice', voices[0].id)  #changing index, changes voices. o for male\n",
    "engine.setProperty('voice', voices[1].id)   #changing index, changes voices. 1 for female\n"
   ]
  },
  {
   "cell_type": "code",
   "execution_count": 5,
   "metadata": {},
   "outputs": [],
   "source": [
    "engine.say(\"Hello World!\")\n",
    "engine.say('My current speaking rate is ' + str(rate))\n",
    "engine.runAndWait()\n",
    "engine.stop()\n"
   ]
  },
  {
   "cell_type": "code",
   "execution_count": 6,
   "metadata": {},
   "outputs": [],
   "source": [
    "engine.save_to_file('Hello World', 'test.mp3')\n",
    "engine.runAndWait()"
   ]
  },
  {
   "cell_type": "code",
   "execution_count": 19,
   "metadata": {},
   "outputs": [
    {
     "name": "stdout",
     "output_type": "stream",
     "text": [
      "1.0\n",
      "1.0\n"
     ]
    }
   ],
   "source": [
    "engine = pyttsx3.init() # object creation\n",
    "volume = engine.getProperty('volume')   #getting to know current volume level (min=0 and max=1)\n",
    "print (volume)                          #printing current volume level\n",
    "engine.setProperty('volume',1.0)    # setting up volume level  between 0 and 1\n",
    "print (volume) \n",
    "engine.say(\"Hello World!\")\n",
    "engine.runAndWait()\n"
   ]
  },
  {
   "cell_type": "code",
   "execution_count": 1,
   "metadata": {},
   "outputs": [
    {
     "name": "stdout",
     "output_type": "stream",
     "text": [
      "<class 'pandas.core.frame.DataFrame'>\n",
      "RangeIndex: 4060 entries, 0 to 4059\n",
      "Data columns (total 3 columns):\n",
      " #   Column            Non-Null Count  Dtype \n",
      "---  ------            --------------  ----- \n",
      " 0   Unnamed: 0        4060 non-null   int64 \n",
      " 1   Difficulty Level  4060 non-null   object\n",
      " 2   Words             4060 non-null   object\n",
      "dtypes: int64(1), object(2)\n",
      "memory usage: 95.3+ KB\n"
     ]
    }
   ],
   "source": [
    "import pandas as pd\n",
    "dataset = pd.read_csv('Spell_Bee_fileV1.csv')\n",
    "dataset.info()\n"
   ]
  },
  {
   "cell_type": "markdown",
   "metadata": {},
   "source": [
    "# "
   ]
  },
  {
   "cell_type": "code",
   "execution_count": 45,
   "metadata": {},
   "outputs": [
    {
     "data": {
      "text/plain": [
       "0       0\n",
       "1       0\n",
       "2       0\n",
       "3       0\n",
       "4       0\n",
       "       ..\n",
       "4055    0\n",
       "4056    0\n",
       "4057    0\n",
       "4058    0\n",
       "4059    0\n",
       "Name: Words, Length: 4060, dtype: int64"
      ]
     },
     "execution_count": 45,
     "metadata": {},
     "output_type": "execute_result"
    }
   ],
   "source": [
    "import seaborn as sns\n",
    "df_Or = dataset['Words'].apply(lambda x:1 if x == 'OR ' else 0)\n",
    "df_Or"
   ]
  },
  {
   "cell_type": "code",
   "execution_count": 9,
   "metadata": {},
   "outputs": [
    {
     "data": {
      "text/plain": [
       "0    4000\n",
       "1      60\n",
       "Name: Words, dtype: int64"
      ]
     },
     "execution_count": 9,
     "metadata": {},
     "output_type": "execute_result"
    }
   ],
   "source": [
    "#sns.heatmap(df_Or,yticklabel=False,cbar=False)\n",
    "df_Or.value_counts()"
   ]
  },
  {
   "cell_type": "code",
   "execution_count": 11,
   "metadata": {},
   "outputs": [],
   "source": [
    "df_Or = dataset['Words'].apply(lambda x:x.split(\"OR \")[-1] if \"OR \" in x else x)\n",
    "#df_new =df_Or.apply(lambda x:0 if \" Null\" in x else 1 )\n",
    "#df_new.value_counts()\n"
   ]
  },
  {
   "cell_type": "code",
   "execution_count": 12,
   "metadata": {},
   "outputs": [],
   "source": [
    "df_Or.to_csv(\"check_Bee.csv\")"
   ]
  },
  {
   "cell_type": "code",
   "execution_count": 8,
   "metadata": {},
   "outputs": [],
   "source": [
    "df_new = dataset['Words'].apply(lambda x:'null' if \"OR \" in x else x)\n",
    "df_new.to_csv(\"null_Bee.csv\")"
   ]
  },
  {
   "cell_type": "code",
   "execution_count": 34,
   "metadata": {},
   "outputs": [
    {
     "name": "stdout",
     "output_type": "stream",
     "text": [
      "mumtaz\n",
      "mandate\n",
      "new\n",
      "newb\n"
     ]
    }
   ],
   "source": [
    "import re\n",
    "def Orsplit(x):\n",
    "    match = re.findall('OR\\s*\\**([a-zA-Z]+)|\\**([a-zA-Z]+)',x)\n",
    "    for item in match:\n",
    "        if item[0] == '':\n",
    "            return item[1]\n",
    "        return item[0]\n",
    "\n",
    "#sample = ['OR mumtaz', 'OR *mandate', 'OR   **new**', '*newb']\n",
    "#for i in sample:\n",
    "    print(Orsplit(i))"
   ]
  },
  {
   "cell_type": "code",
   "execution_count": 19,
   "metadata": {},
   "outputs": [],
   "source": [
    "import re\n",
    "def Orsplit(x):\n",
    "    match = re.findall('\\**\\s*([a-zA-Z]+.*)',x)\n",
    "    for item in match:\n",
    "        return item\n",
    "dataset['Words'] = dataset['Words'].apply(Orsplit)\n",
    "dataset.to_csv(\"Modified_BeeWord.csv\")\n",
    "#sample = ['mumtaz', '*mandate', 'koh-i-noor', '*** marcel', 'aperÃ§u', 'Ã©tagÃ¨re']\n",
    "#for i in sample:\n",
    "  #  print(Orsplit(i))"
   ]
  },
  {
   "cell_type": "code",
   "execution_count": 46,
   "metadata": {},
   "outputs": [],
   "source": [
    "import re\n",
    "def Orsplit(x):\n",
    "    match = re.findall('OR\\s*\\**([a-zA-Z]+)|\\**([a-zA-Z]+)',x)\n",
    "    for item in match:\n",
    "        if item[0] == '':\n",
    "            return item[1]\n",
    "        return item[0]\n",
    "dataset['Words'] = dataset['Words'].apply(Orsplit)\n",
    "\n",
    "#df_Or.to_csv(\"Modified_Bee.csv\")"
   ]
  },
  {
   "cell_type": "code",
   "execution_count": null,
   "metadata": {},
   "outputs": [],
   "source": []
  },
  {
   "cell_type": "code",
   "execution_count": 18,
   "metadata": {},
   "outputs": [],
   "source": [
    "dataset['Words'] = dataset['Words'].apply(lambda x:x.split(\"OR \")[-1] if \"OR \" in x else x)\n",
    "#dataset.to_csv(\"Modified_BeeWords.csv\")"
   ]
  },
  {
   "cell_type": "code",
   "execution_count": 3,
   "metadata": {},
   "outputs": [
    {
     "data": {
      "text/html": [
       "<div>\n",
       "<style scoped>\n",
       "    .dataframe tbody tr th:only-of-type {\n",
       "        vertical-align: middle;\n",
       "    }\n",
       "\n",
       "    .dataframe tbody tr th {\n",
       "        vertical-align: top;\n",
       "    }\n",
       "\n",
       "    .dataframe thead th {\n",
       "        text-align: right;\n",
       "    }\n",
       "</style>\n",
       "<table border=\"1\" class=\"dataframe\">\n",
       "  <thead>\n",
       "    <tr style=\"text-align: right;\">\n",
       "      <th></th>\n",
       "      <th>Unnamed: 0</th>\n",
       "      <th>Difficulty Level</th>\n",
       "      <th>Words</th>\n",
       "    </tr>\n",
       "  </thead>\n",
       "  <tbody>\n",
       "    <tr>\n",
       "      <th>0</th>\n",
       "      <td>0</td>\n",
       "      <td>ONE</td>\n",
       "      <td>gel</td>\n",
       "    </tr>\n",
       "    <tr>\n",
       "      <th>1</th>\n",
       "      <td>1</td>\n",
       "      <td>ONE</td>\n",
       "      <td>day</td>\n",
       "    </tr>\n",
       "    <tr>\n",
       "      <th>2</th>\n",
       "      <td>2</td>\n",
       "      <td>ONE</td>\n",
       "      <td>scorch</td>\n",
       "    </tr>\n",
       "    <tr>\n",
       "      <th>3</th>\n",
       "      <td>3</td>\n",
       "      <td>ONE</td>\n",
       "      <td>hear</td>\n",
       "    </tr>\n",
       "    <tr>\n",
       "      <th>4</th>\n",
       "      <td>4</td>\n",
       "      <td>ONE</td>\n",
       "      <td>sizzle</td>\n",
       "    </tr>\n",
       "  </tbody>\n",
       "</table>\n",
       "</div>"
      ],
      "text/plain": [
       "   Unnamed: 0 Difficulty Level   Words\n",
       "0           0              ONE     gel\n",
       "1           1              ONE     day\n",
       "2           2              ONE  scorch\n",
       "3           3              ONE    hear\n",
       "4           4              ONE  sizzle"
      ]
     },
     "execution_count": 3,
     "metadata": {},
     "output_type": "execute_result"
    }
   ],
   "source": [
    "dataset.head()\n"
   ]
  },
  {
   "cell_type": "code",
   "execution_count": 22,
   "metadata": {},
   "outputs": [],
   "source": [
    "import pandas as pd\n",
    "import sqlite3\n",
    "conn = sqlite3.connect(r\"C:\\Users\\User\\projects\\Django\\BeeWord\\db.sqlite3\")\n",
    "cur = conn.cursor()"
   ]
  },
  {
   "cell_type": "code",
   "execution_count": 1,
   "metadata": {},
   "outputs": [
    {
     "name": "stdout",
     "output_type": "stream",
     "text": [
      "[(0, 'ONE', 'gel'), (1, 'ONE', 'day'), (2, 'ONE', 'scorch'), (3, 'ONE', 'hear'), (4, 'ONE', 'sizzle')]\n"
     ]
    }
   ],
   "source": [
    "#import pandas as pd\n",
    "import sqlite3, csv\n",
    "conn = sqlite3.connect(r\"C:\\Users\\User\\projects\\Datascience\\BeeWord_Project\\Bee_Project\\db.sqlite3\")\n",
    "cur = conn.cursor()\n",
    "inp_file = open(\"Spell_BeeWord.csv\")\n",
    "rows = csv.reader(inp_file)\n",
    "cur.executemany(\"INSERT INTO beeword_tb VALUES (?, ?,?)\", rows)\n",
    "\n",
    "cur.execute(\"SELECT * FROM beeword_tb limit 5\")\n",
    "print(cur.fetchall())\n",
    "conn.commit()\n",
    "conn.close()\n",
    "inp_file.close()"
   ]
  },
  {
   "cell_type": "code",
   "execution_count": 22,
   "metadata": {},
   "outputs": [],
   "source": [
    "\n",
    "import sqlite3\n",
    "conn = sqlite3.connect(r\"C:\\Users\\User\\projects\\Datascience\\BeeWord_Project\\Bee_Project\\db.sqlite3\")\n",
    "cur = conn.cursor()\n",
    "for idx in range(4061,8121):\n",
    "    cur.execute(\"DELETE  FROM spellbee_score where id = ?\" ,(idx,))\n",
    "#print(cur.fetchall())\n",
    "conn.commit()\n",
    "conn.close()"
   ]
  },
  {
   "cell_type": "code",
   "execution_count": 23,
   "metadata": {
    "tags": []
   },
   "outputs": [],
   "source": [
    "import sqlite3, csv\n",
    "#conn = sqlite3.connect(r\"C:\\Users\\User\\projects\\Datascience\\BeeWord_Project\\Bee_Project\\db.sqlite3\")\n",
    "cur = conn.cursor()\n",
    "with open(\"duplicate_bee1.csv\", \"w\") as write_file:\n",
    "    for idx in range(4061,8121):\n",
    "        #print(idx)\n",
    "        data = cur.execute(\"SELECT * FROM spellbee_score where id = ?\" ,(idx,))\n",
    "\n",
    "        w = csv.writer(write_file)\n",
    "        w.writerow(data)\n",
    "\n",
    "\n",
    "#conn.commit()\n",
    "conn.close()"
   ]
  },
  {
   "cell_type": "code",
   "execution_count": null,
   "metadata": {},
   "outputs": [],
   "source": []
  },
  {
   "cell_type": "code",
   "execution_count": null,
   "metadata": {},
   "outputs": [],
   "source": []
  }
 ],
 "metadata": {
  "kernelspec": {
   "display_name": "Python 3",
   "language": "python",
   "name": "python3"
  },
  "language_info": {
   "codemirror_mode": {
    "name": "ipython",
    "version": 3
   },
   "file_extension": ".py",
   "mimetype": "text/x-python",
   "name": "python",
   "nbconvert_exporter": "python",
   "pygments_lexer": "ipython3",
   "version": "3.8.3"
  }
 },
 "nbformat": 4,
 "nbformat_minor": 4
}
