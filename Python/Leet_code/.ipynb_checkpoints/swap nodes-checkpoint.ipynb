{
 "cells": [
  {
   "cell_type": "code",
   "execution_count": null,
   "metadata": {},
   "outputs": [],
   "source": [
    "class Solution:\n",
    "    def swapPairs(self, head: ListNode) -> ListNode:\n",
    "        a = []\n",
    "        cur = head\n",
    "        while cur:\n",
    "            a.append(cur.val)\n",
    "            cur = cur.next\n",
    "        for i in range(0, len(a)-1, 2):\n",
    "            a[i], a[i+1] = a[i+1], a[i]\n",
    "        l = ListNode(-1)\n",
    "        c = l\n",
    "        for i in a:\n",
    "            c.next = ListNode(i)\n",
    "            c = c.next\n",
    "        return l.next\n",
    "        \n",
    "        \n",
    "        #SOLUTION 2\n",
    "        if head == None or head.next == None:\n",
    "            return head\n",
    "        cur, prev = head.next, head\n",
    "        while cur:\n",
    "            cur.val, prev.val = prev.val, cur.val\n",
    "            prev = cur.next\n",
    "            if cur.next:\n",
    "                cur = prev.next\n",
    "            else:\n",
    "                break\n",
    "        return head"
   ]
  }
 ],
 "metadata": {
  "kernelspec": {
   "display_name": "Python 3",
   "language": "python",
   "name": "python3"
  },
  "language_info": {
   "codemirror_mode": {
    "name": "ipython",
    "version": 3
   },
   "file_extension": ".py",
   "mimetype": "text/x-python",
   "name": "python",
   "nbconvert_exporter": "python",
   "pygments_lexer": "ipython3",
   "version": "3.8.3"
  }
 },
 "nbformat": 4,
 "nbformat_minor": 4
}
