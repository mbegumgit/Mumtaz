{
 "cells": [
  {
   "cell_type": "code",
   "execution_count": 5,
   "metadata": {},
   "outputs": [
    {
     "data": {
      "text/plain": [
       "['a', 'o', 'm', '4', 'd', 's']"
      ]
     },
     "execution_count": 5,
     "metadata": {},
     "output_type": "execute_result"
    }
   ],
   "source": [
    "# Reverse the list of string recursively \n",
    "class Solution:\n",
    "    def reverseString(self, s):\n",
    "        \"\"\"\n",
    "        Do not return anything, modify s in-place instead.\n",
    "        \"\"\"\n",
    "        mid = len(s)//2\n",
    "        def reverse(hdr,tail):\n",
    "            if mid - hdr < 1:\n",
    "                return\n",
    "            else:\n",
    "                s[hdr], s[tail] = s[tail], s[hdr]\n",
    "                reverse(hdr+1, tail-1)\n",
    "        reverse(0,len(s)-1) \n",
    "strlst=['s','d','4','m','m','o','a']\n",
    "s=Solution()\n",
    "s.reverseString(strlst)\n",
    "strlst"
   ]
  },
  {
   "cell_type": "code",
   "execution_count": 12,
   "metadata": {},
   "outputs": [
    {
     "name": "stdout",
     "output_type": "stream",
     "text": [
      "traverse-fn 3\n",
      "traverse-fn 2\n",
      "traverse-fn 1\n",
      "traverse-fn 0\n"
     ]
    }
   ],
   "source": [
    "# Swap nodes in pair\n",
    "# Definition for singly-linked list.\n",
    "class Node:\n",
    "    def __init__(self, data=0, next=None):\n",
    "        self.data = data\n",
    "        self.next = next\n",
    "    def get(self):\n",
    "        return self.data\n",
    "    def get_next(self):\n",
    "        return self.next\n",
    "        \n",
    "class LinkedList:\n",
    "    def __init__(self):\n",
    "        self.hdr = None\n",
    "        self.size = 0\n",
    "        \n",
    "    def gen_node(self,x):\n",
    "        # Inserting Node at the beginning\n",
    "        new_node = Node(x)\n",
    "        new_node.next = self.hdr\n",
    "        self.hdr = new_node\n",
    " \n",
    "        self.size += 1\n",
    "        \n",
    "        \n",
    "    def traverse(self):\n",
    "        curr =self.hdr\n",
    "\n",
    "        for i in range(self.size):\n",
    "            print('traverse-fn',curr.get())\n",
    "\n",
    "#            curr = self.hdr.next\n",
    "\n",
    "            curr = curr.get_next()\n",
    "            \n",
    "            \n",
    "L1=LinkedList()\n",
    "for i in range(4):\n",
    "    L1.gen_node(i)\n",
    "L1.traverse()"
   ]
  },
  {
   "cell_type": "code",
   "execution_count": 2,
   "metadata": {},
   "outputs": [
    {
     "name": "stdout",
     "output_type": "stream",
     "text": [
      "Node0 is 4\n",
      "Node1 is 3\n",
      "Node2 is 2\n",
      "Node3 is 1\n",
      "Inside reverse: <__main__.Node object at 0x000001F5CD6AA190> <__main__.Node object at 0x000001F5CD6AA250>\n",
      "Inside reverse: <__main__.Node object at 0x000001F5CD6AA0A0> <__main__.Node object at 0x000001F5CD6AA190>\n",
      "Inside reverse: <__main__.Node object at 0x000001F5CD6B4EE0> <__main__.Node object at 0x000001F5CD6AA0A0>\n",
      "Inside reverse: <__main__.Node object at 0x000001F5CD6B4DF0> <__main__.Node object at 0x000001F5CD6B4EE0>\n",
      "Node0 is 0\n",
      "Node1 is 1\n",
      "Node2 is 2\n",
      "Node3 is 3\n",
      "Node4 is 4\n"
     ]
    }
   ],
   "source": [
    "# Swap nodes in pair\n",
    "# Definition for singly-linked list.\n",
    "class Node:\n",
    "    def __init__(self, data=0, next=None):\n",
    "        self.data = data\n",
    "        self.next = next\n",
    "    def get(self):\n",
    "        return self.data\n",
    "    def get_next(self):\n",
    "        return self.next\n",
    "        \n",
    "class LinkedList:\n",
    "    def __init__(self):\n",
    "        self.hdr = None\n",
    "        self.size = 0\n",
    "        \n",
    "    def gen_node(self,x):\n",
    "        # Inserting Node at the beginning\n",
    "        new_node = Node(x)\n",
    "        new_node.next = self.hdr\n",
    "        self.hdr = new_node\n",
    " \n",
    "        self.size += 1\n",
    "        \n",
    "    def reverseUtil(self, curr, prev):\n",
    " \n",
    "        # If last node mark it hdr\n",
    "        if curr.next is None:\n",
    "            self.hdr = curr\n",
    " \n",
    "            # Update next to prev node\n",
    "            curr.next = prev\n",
    "            return\n",
    " \n",
    "        # Save curr.next node for recursive call\n",
    "        next = curr.next\n",
    " \n",
    "        # And update next\n",
    "        curr.next = prev\n",
    "        print('Inside reverse:', next, curr)\n",
    "        self.reverseUtil(next, curr)\n",
    " \n",
    "    # This function mainly calls reverseUtil()\n",
    "    # with previous as None\n",
    " \n",
    "    def reverse(self):\n",
    "        if self.hdr is None:\n",
    "            return\n",
    "        self.reverseUtil(self.hdr, None) \n",
    "            \n",
    " \n",
    "        self.size += 1    \n",
    "    def traverse(self):\n",
    "        curr =self.hdr\n",
    "\n",
    "        for i in range(self.size-1):\n",
    "            \n",
    "            print('Node{} is {}'.format(i,curr.get()))\n",
    "\n",
    "#            curr = self.hdr.next\n",
    "\n",
    "            curr = curr.get_next()\n",
    "            \n",
    "            \n",
    "L1=LinkedList()\n",
    "\n",
    "for i in range(5):\n",
    "    L1.gen_node(i)\n",
    "L1.traverse()\n",
    "L1.reverse()\n",
    "L1.traverse()"
   ]
  },
  {
   "cell_type": "code",
   "execution_count": 3,
   "metadata": {},
   "outputs": [
    {
     "ename": "NameError",
     "evalue": "name 'ListNode' is not defined",
     "output_type": "error",
     "traceback": [
      "\u001b[1;31m---------------------------------------------------------------------------\u001b[0m",
      "\u001b[1;31mNameError\u001b[0m                                 Traceback (most recent call last)",
      "\u001b[1;32m<ipython-input-3-f1b009c49166>\u001b[0m in \u001b[0;36m<module>\u001b[1;34m\u001b[0m\n\u001b[0;32m      4\u001b[0m \u001b[1;31m#         self.val = val\u001b[0m\u001b[1;33m\u001b[0m\u001b[1;33m\u001b[0m\u001b[1;33m\u001b[0m\u001b[0m\n\u001b[0;32m      5\u001b[0m \u001b[1;31m#         self.next = next\u001b[0m\u001b[1;33m\u001b[0m\u001b[1;33m\u001b[0m\u001b[1;33m\u001b[0m\u001b[0m\n\u001b[1;32m----> 6\u001b[1;33m \u001b[1;32mclass\u001b[0m \u001b[0mSolution\u001b[0m\u001b[1;33m:\u001b[0m\u001b[1;33m\u001b[0m\u001b[1;33m\u001b[0m\u001b[0m\n\u001b[0m\u001b[0;32m      7\u001b[0m     \u001b[1;32mdef\u001b[0m \u001b[0mswapPairs\u001b[0m\u001b[1;33m(\u001b[0m\u001b[0mself\u001b[0m\u001b[1;33m,\u001b[0m \u001b[0mhead\u001b[0m\u001b[1;33m:\u001b[0m \u001b[0mListNode\u001b[0m\u001b[1;33m)\u001b[0m \u001b[1;33m->\u001b[0m \u001b[0mListNode\u001b[0m\u001b[1;33m:\u001b[0m\u001b[1;33m\u001b[0m\u001b[1;33m\u001b[0m\u001b[0m\n\u001b[0;32m      8\u001b[0m         \u001b[1;32mdef\u001b[0m \u001b[0mreverse\u001b[0m\u001b[1;33m(\u001b[0m\u001b[0mcurr\u001b[0m\u001b[1;33m,\u001b[0m \u001b[0mprev\u001b[0m\u001b[1;33m)\u001b[0m\u001b[1;33m:\u001b[0m\u001b[1;33m\u001b[0m\u001b[1;33m\u001b[0m\u001b[0m\n",
      "\u001b[1;32m<ipython-input-3-f1b009c49166>\u001b[0m in \u001b[0;36mSolution\u001b[1;34m()\u001b[0m\n\u001b[0;32m      5\u001b[0m \u001b[1;31m#         self.next = next\u001b[0m\u001b[1;33m\u001b[0m\u001b[1;33m\u001b[0m\u001b[1;33m\u001b[0m\u001b[0m\n\u001b[0;32m      6\u001b[0m \u001b[1;32mclass\u001b[0m \u001b[0mSolution\u001b[0m\u001b[1;33m:\u001b[0m\u001b[1;33m\u001b[0m\u001b[1;33m\u001b[0m\u001b[0m\n\u001b[1;32m----> 7\u001b[1;33m     \u001b[1;32mdef\u001b[0m \u001b[0mswapPairs\u001b[0m\u001b[1;33m(\u001b[0m\u001b[0mself\u001b[0m\u001b[1;33m,\u001b[0m \u001b[0mhead\u001b[0m\u001b[1;33m:\u001b[0m \u001b[0mListNode\u001b[0m\u001b[1;33m)\u001b[0m \u001b[1;33m->\u001b[0m \u001b[0mListNode\u001b[0m\u001b[1;33m:\u001b[0m\u001b[1;33m\u001b[0m\u001b[1;33m\u001b[0m\u001b[0m\n\u001b[0m\u001b[0;32m      8\u001b[0m         \u001b[1;32mdef\u001b[0m \u001b[0mreverse\u001b[0m\u001b[1;33m(\u001b[0m\u001b[0mcurr\u001b[0m\u001b[1;33m,\u001b[0m \u001b[0mprev\u001b[0m\u001b[1;33m)\u001b[0m\u001b[1;33m:\u001b[0m\u001b[1;33m\u001b[0m\u001b[1;33m\u001b[0m\u001b[0m\n\u001b[0;32m      9\u001b[0m              \u001b[1;31m# If last node mark it hdr\u001b[0m\u001b[1;33m\u001b[0m\u001b[1;33m\u001b[0m\u001b[1;33m\u001b[0m\u001b[0m\n",
      "\u001b[1;31mNameError\u001b[0m: name 'ListNode' is not defined"
     ]
    }
   ],
   "source": [
    "class Solution:\n",
    "    def swapPairs(self, head: ListNode):\n",
    "\n",
    "        # base case \n",
    "        if not head or not head.next: return head\n",
    "        \n",
    "        # save the 2nd node\n",
    "        curr_node = head.next\n",
    "        \n",
    "        # let the 1st node point to the whatever next node\n",
    "        head.next = self.swapPairs(curr_node.next)\n",
    "        \n",
    "        # let the 2nd node point to the first one\n",
    "        curr_node.next = head\n",
    "        \n",
    "        return curr_node\n",
    "        \n",
    "            "
   ]
  },
  {
   "cell_type": "code",
   "execution_count": 1,
   "metadata": {},
   "outputs": [
    {
     "ename": "NameError",
     "evalue": "name 'ListNode' is not defined",
     "output_type": "error",
     "traceback": [
      "\u001b[1;31m---------------------------------------------------------------------------\u001b[0m",
      "\u001b[1;31mNameError\u001b[0m                                 Traceback (most recent call last)",
      "\u001b[1;32m<ipython-input-1-f85525a11fbd>\u001b[0m in \u001b[0;36m<module>\u001b[1;34m\u001b[0m\n\u001b[0;32m      5\u001b[0m \u001b[1;31m#         self.val = val\u001b[0m\u001b[1;33m\u001b[0m\u001b[1;33m\u001b[0m\u001b[1;33m\u001b[0m\u001b[0m\n\u001b[0;32m      6\u001b[0m \u001b[1;31m#         self.next = next\u001b[0m\u001b[1;33m\u001b[0m\u001b[1;33m\u001b[0m\u001b[1;33m\u001b[0m\u001b[0m\n\u001b[1;32m----> 7\u001b[1;33m \u001b[1;32mclass\u001b[0m \u001b[0mSolution\u001b[0m\u001b[1;33m:\u001b[0m\u001b[1;33m\u001b[0m\u001b[1;33m\u001b[0m\u001b[0m\n\u001b[0m\u001b[0;32m      8\u001b[0m     \u001b[1;32mdef\u001b[0m \u001b[0mswapPairs\u001b[0m\u001b[1;33m(\u001b[0m\u001b[0mself\u001b[0m\u001b[1;33m,\u001b[0m \u001b[0mhead\u001b[0m\u001b[1;33m:\u001b[0m \u001b[0mListNode\u001b[0m\u001b[1;33m)\u001b[0m \u001b[1;33m->\u001b[0m \u001b[0mListNode\u001b[0m\u001b[1;33m:\u001b[0m\u001b[1;33m\u001b[0m\u001b[1;33m\u001b[0m\u001b[0m\n\u001b[0;32m      9\u001b[0m         \u001b[1;32mif\u001b[0m \u001b[1;32mnot\u001b[0m \u001b[0mhead\u001b[0m\u001b[1;33m:\u001b[0m\u001b[1;33m\u001b[0m\u001b[1;33m\u001b[0m\u001b[0m\n",
      "\u001b[1;32m<ipython-input-1-f85525a11fbd>\u001b[0m in \u001b[0;36mSolution\u001b[1;34m()\u001b[0m\n\u001b[0;32m      6\u001b[0m \u001b[1;31m#         self.next = next\u001b[0m\u001b[1;33m\u001b[0m\u001b[1;33m\u001b[0m\u001b[1;33m\u001b[0m\u001b[0m\n\u001b[0;32m      7\u001b[0m \u001b[1;32mclass\u001b[0m \u001b[0mSolution\u001b[0m\u001b[1;33m:\u001b[0m\u001b[1;33m\u001b[0m\u001b[1;33m\u001b[0m\u001b[0m\n\u001b[1;32m----> 8\u001b[1;33m     \u001b[1;32mdef\u001b[0m \u001b[0mswapPairs\u001b[0m\u001b[1;33m(\u001b[0m\u001b[0mself\u001b[0m\u001b[1;33m,\u001b[0m \u001b[0mhead\u001b[0m\u001b[1;33m:\u001b[0m \u001b[0mListNode\u001b[0m\u001b[1;33m)\u001b[0m \u001b[1;33m->\u001b[0m \u001b[0mListNode\u001b[0m\u001b[1;33m:\u001b[0m\u001b[1;33m\u001b[0m\u001b[1;33m\u001b[0m\u001b[0m\n\u001b[0m\u001b[0;32m      9\u001b[0m         \u001b[1;32mif\u001b[0m \u001b[1;32mnot\u001b[0m \u001b[0mhead\u001b[0m\u001b[1;33m:\u001b[0m\u001b[1;33m\u001b[0m\u001b[1;33m\u001b[0m\u001b[0m\n\u001b[0;32m     10\u001b[0m             \u001b[1;32mreturn\u001b[0m \u001b[0mhead\u001b[0m\u001b[1;33m\u001b[0m\u001b[1;33m\u001b[0m\u001b[0m\n",
      "\u001b[1;31mNameError\u001b[0m: name 'ListNode' is not defined"
     ]
    }
   ],
   "source": [
    "from collections import deque\n",
    "# Definition for singly-linked list.\n",
    "# class ListNode:\n",
    "#     def __init__(self, val=0, next=None):\n",
    "#         self.val = val\n",
    "#         self.next = next\n",
    "class Solution:\n",
    "    def swapPairs(self, head: ListNode) -> ListNode:\n",
    "        if not head:\n",
    "            return head\n",
    "        \n",
    "        # empty queue\n",
    "        queue = deque([])\n",
    "        \n",
    "        curr = head\n",
    "        while(curr):\n",
    "            # create a new node\n",
    "            nn = ListNode(curr.val)\n",
    "            queue.append(nn)\n",
    "            \n",
    "            # move to next in the list\n",
    "            curr = curr.next\n",
    "        \n",
    "        head, last = None, None\n",
    "        while(len(queue) >= 2):\n",
    "            # remove the first two nodes from the front of the queue\n",
    "            second = queue.popleft()\n",
    "            first = queue.popleft()\n",
    "            \n",
    "            \n",
    "            # connect first to the second\n",
    "            first.next = second\n",
    "            \n",
    "            # head pointer\n",
    "            if head is None:\n",
    "                head = first\n",
    "            \n",
    "            if last is None:\n",
    "                last = second\n",
    "            else:\n",
    "                last.next = first\n",
    "                last = second\n",
    "        \n",
    "        # last remaining node\n",
    "        if queue:\n",
    "            rem = queue.pop()\n",
    "            if last:\n",
    "                last.next = rem\n",
    "                \n",
    "            if head is None:\n",
    "                head = rem\n",
    "        \n",
    "        return head"
   ]
  },
  {
   "cell_type": "code",
   "execution_count": 2,
   "metadata": {},
   "outputs": [
    {
     "name": "stdout",
     "output_type": "stream",
     "text": [
      "[[1], [1, 1], [1, 1, 1], [1, 1, 1, 1]]\n"
     ]
    }
   ],
   "source": [
    "def getRow(rowIndex):\n",
    "    result = [[1] * i for i in range(1,rowIndex+2)]\n",
    "    return result\n",
    "print(getRow(3))"
   ]
  },
  {
   "cell_type": "code",
   "execution_count": 22,
   "metadata": {},
   "outputs": [
    {
     "name": "stdout",
     "output_type": "stream",
     "text": [
      "[1]\n",
      "0\n",
      "1\n"
     ]
    }
   ],
   "source": [
    "\n",
    "def getRowMain(rowIndex):\n",
    "    def getRow(rowIndex):\n",
    "        if rowIndex == 0:\n",
    "            return[1]\n",
    "        \n",
    "        Rows =  getRow(rowIndex-1)\n",
    "        return Rows\n",
    "    Row_List =getRow(rowIndex)\n",
    "    print(Row_List)\n",
    "    rowIndex = len(Row_List) -1\n",
    "    print(rowIndex)\n",
    "    for i in range(2,rowIndex):\n",
    "        for j in (1,len(Row_List[i])-1):\n",
    "            \n",
    "            Row_List[i][j] = Row_List[i-1][i-1] + Row_list[i-1][i]\n",
    "            print('Row',Row_List)\n",
    "    \n",
    "    return Row_List[len(Row_List)-1]\n",
    "            \n",
    "print(getRowMain(5))\n",
    "    \n"
   ]
  },
  {
   "cell_type": "code",
   "execution_count": 37,
   "metadata": {},
   "outputs": [
    {
     "name": "stdout",
     "output_type": "stream",
     "text": [
      "x [[1, 1, 1, 1, 1]]\n",
      "[[1, 1, 1, 1, 1]]\n"
     ]
    }
   ],
   "source": [
    "def getRow(rowIndex):\n",
    "        while rowIndex == 0:\n",
    "            x = [[1]*(rowIndex)]\n",
    "            print('x',x) \n",
    "            return x\n",
    "        \n",
    "        Rows = getRow(rowIndex-1)\n",
    "        Rows.append([1])\n",
    "        print('row=',Rows)\n",
    "        return Rows\n",
    "print(getRow(5))"
   ]
  },
  {
   "cell_type": "code",
   "execution_count": 6,
   "metadata": {},
   "outputs": [
    {
     "name": "stdout",
     "output_type": "stream",
     "text": [
      "Index: 1\n",
      "Index: 2\n",
      "Index: 3\n",
      "[[1], [1, 1], [1, 1, 1], [1, 1, 1, 1]]\n"
     ]
    }
   ],
   "source": [
    "def getRow(rowIndex):\n",
    "    while not rowIndex:\n",
    "        return [[1]]\n",
    "    Rows = getRow(rowIndex-1)\n",
    "    Rows.append([1]*(rowIndex+1))\n",
    "    print('Index:', rowIndex)\n",
    "    return Rows\n",
    "print(getRow(3))"
   ]
  },
  {
   "cell_type": "code",
   "execution_count": 4,
   "metadata": {},
   "outputs": [
    {
     "name": "stdout",
     "output_type": "stream",
     "text": [
      "[[1], [1, 1], [1, 2, 1], [1, 3, 3, 1], [1, 4, 6, 4, 1]]\n"
     ]
    }
   ],
   "source": [
    "def getRow(rowIndex):\n",
    "    while not rowIndex:\n",
    "        return [[1]]\n",
    "    Rows = getRow(rowIndex-1)\n",
    "    Rows.append([1]*(rowIndex+1))\n",
    "    \n",
    "    if rowIndex >1:\n",
    "        curr = Rows[rowIndex]\n",
    "        y = len(curr)-1\n",
    "\n",
    "        for col in range(1,y):\n",
    "          \n",
    "            Rows[rowIndex][col] = Rows[rowIndex-1][col-1] + Rows[rowIndex-1][col]\n",
    "         \n",
    " \n",
    "    return Rows\n",
    "print(getRow(4))"
   ]
  },
  {
   "cell_type": "code",
   "execution_count": 5,
   "metadata": {},
   "outputs": [
    {
     "name": "stdout",
     "output_type": "stream",
     "text": [
      "x\n"
     ]
    }
   ],
   "source": [
    "print('x')"
   ]
  },
  {
   "cell_type": "code",
   "execution_count": 11,
   "metadata": {},
   "outputs": [
    {
     "name": "stdout",
     "output_type": "stream",
     "text": [
      "[1, 2]\n",
      "old [1, 1]\n",
      "[1, 2, 1]\n"
     ]
    }
   ],
   "source": [
    "def getRow(rowIndex):\n",
    "    while not rowIndex:\n",
    "        return [1]\n",
    "    New = getRow(rowIndex-1)\n",
    "    #Rows.append([1]*(rowIndex+1))\n",
    "    curr_list = [1]\n",
    "    \n",
    "        \n",
    "    for col in range(rowIndex):\n",
    "        if col >0 :\n",
    "            curr_list.append(New[col-1] + New[col])\n",
    "            print(curr_list)\n",
    "            print('old', New)\n",
    "    curr_list.append(1)\n",
    " \n",
    "    return curr_list\n",
    "print(getRow(2))"
   ]
  },
  {
   "cell_type": "code",
   "execution_count": 12,
   "metadata": {},
   "outputs": [],
   "source": [
    "def fib(self, N):\n",
    "    \"\"\"\n",
    "    :type N: int\n",
    "    :rtype: int\n",
    "    mEMOIZATION \n",
    "    is an optimization technique used primarily to speed up computer programs by storing the results of expensive function calls \n",
    "    and returning the cached result when the same inputs occur again\n",
    "    F(4) = F(3) + F(2) = (F(2) + F(1)) + F(2)\n",
    "    (Hint: one can refer to a design pattern called decorator).\n",
    "\n",
    "\n",
    "    \"\"\"\n",
    "    cache = {}\n",
    "    def recur_fib(N):\n",
    "        if N in cache:\n",
    "            return cache[N]\n",
    "\n",
    "        if N < 2:\n",
    "            result = N\n",
    "        else:\n",
    "            result = recur_fib(N-1) + recur_fib(N-2)\n",
    "\n",
    "        # put result in cache for later reference.\n",
    "        cache[N] = result\n",
    "        return result\n",
    "\n",
    "    return recur_fib(N)"
   ]
  },
  {
   "cell_type": "code",
   "execution_count": 2,
   "metadata": {},
   "outputs": [
    {
     "data": {
      "text/plain": [
       "5"
      ]
     },
     "execution_count": 2,
     "metadata": {},
     "output_type": "execute_result"
    }
   ],
   "source": [
    "def climbStairs(n):\n",
    "        cache ={}\n",
    "        def climbways(N):\n",
    "            if N in cache:\n",
    "                return cache[N]\n",
    "            if N ==1 :\n",
    "                res = N\n",
    "            else: \n",
    "                res = climbways(N-1) +1\n",
    "           # put result in cache for later reference.\n",
    "            cache[N] = res\n",
    "            return res\n",
    "        return climbways(n)\n",
    "climbStairs(5)"
   ]
  },
  {
   "cell_type": "code",
   "execution_count": 7,
   "metadata": {},
   "outputs": [
    {
     "data": {
      "text/plain": [
       "0.25"
      ]
     },
     "execution_count": 7,
     "metadata": {},
     "output_type": "execute_result"
    }
   ],
   "source": [
    "class Solution:\n",
    "    def myPow(self,x, n):\n",
    "        if n == 1:\n",
    "            return x\n",
    "        \n",
    "        elif n == -1:\n",
    "            return 1/x\n",
    "        \n",
    "        elif n < 0:\n",
    "            return ((1/x) * self.myPow(x,n+1) )\n",
    "\n",
    "        else:\n",
    "            return (x * self.myPow(x,n-1))\n",
    "        \n",
    "S1 = Solution()\n",
    "x=2.000\n",
    "S1.myPow(x,-2)"
   ]
  },
  {
   "cell_type": "code",
   "execution_count": null,
   "metadata": {},
   "outputs": [],
   "source": [
    "class Solution:\n",
    "    def myPow(self, x: float, n: int) -> float:\n",
    "        if n < 0:\n",
    "            return self.myPow(1/x , -n)\n",
    "        \n",
    "        if n == 0:\n",
    "            return 1\n",
    "        elif n == 1: \n",
    "            return x\n",
    "        if n % 2 == 0:\n",
    "            return self.myPow(x*x, n //2) #Even Case\n",
    "        else:\n",
    "            return  x * self.myPow(x*x, n //2)  #Odd Case"
   ]
  }
 ],
 "metadata": {
  "kernelspec": {
   "display_name": "Python 3",
   "language": "python",
   "name": "python3"
  },
  "language_info": {
   "codemirror_mode": {
    "name": "ipython",
    "version": 3
   },
   "file_extension": ".py",
   "mimetype": "text/x-python",
   "name": "python",
   "nbconvert_exporter": "python",
   "pygments_lexer": "ipython3",
   "version": "3.8.3"
  }
 },
 "nbformat": 4,
 "nbformat_minor": 4
}
