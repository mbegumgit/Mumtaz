{
 "cells": [
  {
   "cell_type": "code",
   "execution_count": 5,
   "metadata": {},
   "outputs": [
    {
     "name": "stdout",
     "output_type": "stream",
     "text": [
      "0b1\n",
      "0b1\n",
      "0b10\n",
      "0b10\n",
      "0b11\n",
      "0b11\n"
     ]
    },
    {
     "data": {
      "text/plain": [
       "'00b10b100b11'"
      ]
     },
     "execution_count": 5,
     "metadata": {},
     "output_type": "execute_result"
    }
   ],
   "source": []
  },
  {
   "cell_type": "code",
   "execution_count": 62,
   "metadata": {},
   "outputs": [
    {
     "name": "stdout",
     "output_type": "stream",
     "text": [
      "long int: 7406586283\n",
      "val: 406586234\n"
     ]
    }
   ],
   "source": [
    "class Solution:\n",
    "    def concatenatedBinary(self, n):\n",
    "        if n >= 1 and n<= 105:\n",
    "            bin_dig='0'\n",
    "            for item in  map(lambda x : bin(x)[2:],range(1,n+1)):\n",
    "                #print(item)\n",
    "                bin_dig += str(item)\n",
    "                temp = str(int(bin_dig,2))\n",
    "            if  len(str(int(bin_dig,2)))> 9 :\n",
    "                \n",
    "                print('long int:',temp)\n",
    "                return int(bin_dig,2) % (10**9+7)\n",
    "                \n",
    "            else:\n",
    "                return  int(bin_dig,2)\n",
    "        else:\n",
    "            return n\n",
    "sn = Solution()\n",
    "val=sn.concatenatedBinary(11)\n",
    "print('val:', val)\n",
    "        "
   ]
  },
  {
   "cell_type": "code",
   "execution_count": 44,
   "metadata": {},
   "outputs": [
    {
     "data": {
      "text/plain": [
       "505379714"
      ]
     },
     "execution_count": 44,
     "metadata": {},
     "output_type": "execute_result"
    }
   ],
   "source": [
    "118505380540 % (10**9+7)\n"
   ]
  },
  {
   "cell_type": "code",
   "execution_count": 55,
   "metadata": {},
   "outputs": [
    {
     "data": {
      "text/plain": [
       "9"
      ]
     },
     "execution_count": 55,
     "metadata": {},
     "output_type": "execute_result"
    }
   ],
   "source": [
    "len(str(505379714))"
   ]
  },
  {
   "cell_type": "code",
   "execution_count": 70,
   "metadata": {},
   "outputs": [
    {
     "name": "stdout",
     "output_type": "stream",
     "text": [
      "1\n",
      "2\n",
      "3\n",
      "4\n",
      "5\n",
      "6\n",
      "7\n",
      "8\n",
      "9\n",
      "10\n",
      "11\n",
      "long int: 7406586283\n",
      "val: 406586234\n"
     ]
    }
   ],
   "source": [
    "class Solution:\n",
    "    def concatenatedBinary(self, n):\n",
    "\n",
    "        bin_dig='0'\n",
    "        for item in range(1,n+1):\n",
    "            print(item)\n",
    "            bin_dig += str(bin(item)[2:])\n",
    "        temp = str(int(bin_dig,2))\n",
    "        if  len(str(int(bin_dig,2)))> 9 :\n",
    "                \n",
    "            print('long int:',temp)\n",
    "            return int(bin_dig,2) % (10**9+7)\n",
    "                \n",
    "        else:\n",
    "            return  int(bin_dig,2)\n",
    "        \n",
    "sn = Solution()\n",
    "val=sn.concatenatedBinary(11)\n",
    "print('val:', val)"
   ]
  },
  {
   "cell_type": "code",
   "execution_count": 71,
   "metadata": {},
   "outputs": [
    {
     "data": {
      "text/plain": [
       "1000000007"
      ]
     },
     "execution_count": 71,
     "metadata": {},
     "output_type": "execute_result"
    }
   ],
   "source": [
    "10**9+7\n",
    "\n"
   ]
  },
  {
   "cell_type": "code",
   "execution_count": 82,
   "metadata": {},
   "outputs": [
    {
     "name": "stdout",
     "output_type": "stream",
     "text": [
      "val: 27\n"
     ]
    }
   ],
   "source": [
    "# fastest time\n",
    "class Solution:\n",
    "    def concatenatedBinary(self, n):\n",
    "        bin_dig=''\n",
    "        for item in range(1,n+1):\n",
    "            bin_dig += '{0:b}'.format(item)\n",
    "\n",
    "        return int(bin_dig,2) % (10**9 + 7)\n",
    "    #    return int(bin_dig,2) % 1000000007\n",
    "sn = Solution()\n",
    "val=sn.concatenatedBinary(3)\n",
    "print('val:', val)         "
   ]
  },
  {
   "cell_type": "code",
   "execution_count": 86,
   "metadata": {},
   "outputs": [
    {
     "name": "stdout",
     "output_type": "stream",
     "text": [
      "intermediate val 11011\n",
      "val: 27\n"
     ]
    }
   ],
   "source": [
    "class Solution:\n",
    "    def concatenatedBinary(self, n):\n",
    "        stp = []\n",
    "        for i in range(1, n+1):\n",
    "            stp.append(bin(i)[2:])\n",
    "        stp = \"\".join(stp)\n",
    "        print('intermediate val',stp)\n",
    "        return int(stp, 2) % (10**9 + 7)\n",
    "sn = Solution()\n",
    "val=sn.concatenatedBinary(3)\n",
    "print('val:', val)         "
   ]
  },
  {
   "cell_type": "code",
   "execution_count": null,
   "metadata": {},
   "outputs": [],
   "source": []
  }
 ],
 "metadata": {
  "kernelspec": {
   "display_name": "Python 3",
   "language": "python",
   "name": "python3"
  },
  "language_info": {
   "codemirror_mode": {
    "name": "ipython",
    "version": 3
   },
   "file_extension": ".py",
   "mimetype": "text/x-python",
   "name": "python",
   "nbconvert_exporter": "python",
   "pygments_lexer": "ipython3",
   "version": "3.8.3"
  }
 },
 "nbformat": 4,
 "nbformat_minor": 4
}
