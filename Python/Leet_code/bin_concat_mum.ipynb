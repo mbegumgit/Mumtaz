{
 "cells": [
  {
   "cell_type": "code",
   "execution_count": 5,
   "metadata": {},
   "outputs": [
    {
     "name": "stdout",
     "output_type": "stream",
     "text": [
      "0b1\n",
      "0b1\n",
      "0b10\n",
      "0b10\n",
      "0b11\n",
      "0b11\n"
     ]
    },
    {
     "data": {
      "text/plain": [
       "'00b10b100b11'"
      ]
     },
     "execution_count": 5,
     "metadata": {},
     "output_type": "execute_result"
    }
   ],
   "source": []
  },
  {
   "cell_type": "code",
   "execution_count": 62,
   "metadata": {},
   "outputs": [
    {
     "name": "stdout",
     "output_type": "stream",
     "text": [
      "long int: 7406586283\n",
      "val: 406586234\n"
     ]
    }
   ],
   "source": [
    "class Solution:\n",
    "    def concatenatedBinary(self, n):\n",
    "        if n >= 1 and n<= 105:\n",
    "            bin_dig='0'\n",
    "            for item in  map(lambda x : bin(x)[2:],range(1,n+1)):\n",
    "                #print(item)\n",
    "                bin_dig += str(item)\n",
    "                temp = str(int(bin_dig,2))\n",
    "            if  len(str(int(bin_dig,2)))> 9 :\n",
    "                \n",
    "                print('long int:',temp)\n",
    "                return int(bin_dig,2) % (10**9+7)\n",
    "                \n",
    "            else:\n",
    "                return  int(bin_dig,2)\n",
    "        else:\n",
    "            return n\n",
    "sn = Solution()\n",
    "val=sn.concatenatedBinary(11)\n",
    "print('val:', val)\n",
    "        "
   ]
  },
  {
   "cell_type": "code",
   "execution_count": 44,
   "metadata": {},
   "outputs": [
    {
     "data": {
      "text/plain": [
       "505379714"
      ]
     },
     "execution_count": 44,
     "metadata": {},
     "output_type": "execute_result"
    }
   ],
   "source": [
    "118505380540 % (10**9+7)\n"
   ]
  },
  {
   "cell_type": "code",
   "execution_count": 55,
   "metadata": {},
   "outputs": [
    {
     "data": {
      "text/plain": [
       "9"
      ]
     },
     "execution_count": 55,
     "metadata": {},
     "output_type": "execute_result"
    }
   ],
   "source": [
    "len(str(505379714))"
   ]
  },
  {
   "cell_type": "code",
   "execution_count": null,
   "metadata": {},
   "outputs": [],
   "source": []
  }
 ],
 "metadata": {
  "kernelspec": {
   "display_name": "Python 3",
   "language": "python",
   "name": "python3"
  },
  "language_info": {
   "codemirror_mode": {
    "name": "ipython",
    "version": 3
   },
   "file_extension": ".py",
   "mimetype": "text/x-python",
   "name": "python",
   "nbconvert_exporter": "python",
   "pygments_lexer": "ipython3",
   "version": "3.8.3"
  }
 },
 "nbformat": 4,
 "nbformat_minor": 4
}
