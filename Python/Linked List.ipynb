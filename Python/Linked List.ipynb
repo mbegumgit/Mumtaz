{
 "cells": [
  {
   "cell_type": "code",
   "execution_count": null,
   "metadata": {},
   "outputs": [],
   "source": [
    "# class for the node\n",
    "class ListNode(object):\n",
    "    def __init__(self,x):\n",
    "        self.val = x\n",
    "        self.next = None\n",
    "        \n",
    "    def display(self):\n",
    "        printval = self\n",
    "        lists=[]\n",
    "        while printval is not None:\n",
    "            lists.append(printval.val)\n",
    "            printval = printval.next \n",
    "        print(lists)\n",
    "        \n",
    "        \n",
    "# class for the linked list         \n",
    "class createLinkedList(object):\n",
    "    def __init__(self):\n",
    "        self.head = None \n",
    "    \n",
    "    def insert(self,lists):\n",
    "        head = self\n",
    "        for i in range(0,len(lists)): \n",
    "            if i==0:\n",
    "                node = ListNode(lists[0])\n",
    "                self.head = node\n",
    "            else:\n",
    "                node.next = ListNode(lists[i])\n",
    "                node = node.next  \n",
    "\n",
    "\n",
    "    # Print the linked list\n",
    "    def display(self):\n",
    "        printval = self.head\n",
    "        lists=[]\n",
    "        while printval is not None:\n",
    "            lists.append(printval.val)\n",
    "            printval = printval.next \n",
    "        print(lists)"
   ]
  }
 ],
 "metadata": {
  "kernelspec": {
   "display_name": "Python 3",
   "language": "python",
   "name": "python3"
  },
  "language_info": {
   "codemirror_mode": {
    "name": "ipython",
    "version": 3
   },
   "file_extension": ".py",
   "mimetype": "text/x-python",
   "name": "python",
   "nbconvert_exporter": "python",
   "pygments_lexer": "ipython3",
   "version": "3.8.3"
  }
 },
 "nbformat": 4,
 "nbformat_minor": 4
}
