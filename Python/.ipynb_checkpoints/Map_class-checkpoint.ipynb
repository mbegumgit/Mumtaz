{
 "cells": [
  {
   "cell_type": "code",
   "execution_count": 14,
   "metadata": {},
   "outputs": [],
   "source": [
    "lst=[1,2,3,6,0,4,6]\n",
    "def even_odd(x):\n",
    "    if x%2 == 0:\n",
    "        return 'Number {:2.2f} is even'.format(x)\n",
    "    else:\n",
    "        return 'Number {:2.2f} is odd'.format(x)\n",
    "        "
   ]
  },
  {
   "cell_type": "code",
   "execution_count": 15,
   "metadata": {},
   "outputs": [
    {
     "name": "stdout",
     "output_type": "stream",
     "text": [
      "['Number 1.00 is odd', 'Number 2.00 is even', 'Number 3.00 is odd', 'Number 6.00 is even', 'Number 0.00 is even', 'Number 4.00 is even', 'Number 6.00 is even']\n"
     ]
    }
   ],
   "source": [
    "x=list(map(even_odd, lst))\n",
    "print(x)"
   ]
  },
  {
   "cell_type": "code",
   "execution_count": null,
   "metadata": {},
   "outputs": [],
   "source": []
  }
 ],
 "metadata": {
  "kernelspec": {
   "display_name": "Python 3",
   "language": "python",
   "name": "python3"
  },
  "language_info": {
   "codemirror_mode": {
    "name": "ipython",
    "version": 3
   },
   "file_extension": ".py",
   "mimetype": "text/x-python",
   "name": "python",
   "nbconvert_exporter": "python",
   "pygments_lexer": "ipython3",
   "version": "3.8.3"
  }
 },
 "nbformat": 4,
 "nbformat_minor": 4
}
